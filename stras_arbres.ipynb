{
 "cells": [
  {
   "cell_type": "markdown",
   "metadata": {},
   "source": [
    "## Arbres de la ville de Strasbourg : données par quartier et par essence\n",
    "\n",
    "- les méthodes pour tracer sont dans le fichier [exos/arbres_stras.py](exos/arbres_stras.py)\n",
    "- la procédure est décrite par ce [notebook](06-pandas.ipynb)\n",
    "- les données sources proviennent de la Ville de Strasbourg : <https://www.strasbourg.eu/open-data>"
   ]
  },
  {
   "cell_type": "code",
   "execution_count": null,
   "metadata": {},
   "outputs": [],
   "source": [
    "# On commence par importer et instancier la classe ArbreStras du fichier exos/arbres_stras.py\n",
    "from exos.arbres_stras import ArbreStras\n",
    "\n",
    "# On charge les données\n",
    "stras_arbres = ArbreStras(force_download=False)\n",
    "\n",
    "# On trace la carte de répartition en fonction de la sélection du menu ipywidgets\n",
    "from ipywidgets import interact, fixed\n",
    "\n",
    "representations = [\"nombre\", \"densité\", \"hauteur moyenne\"]\n",
    "def espece_from_genre(genre):\n",
    "    especes = [f\"{genre} {espece}\" for espece in stras_arbres.essences_dict[genre]]\n",
    "    interact(type_representation, essence=sorted(especes), representation=representations)\n",
    "\n",
    "def filtre_essences(filtre):\n",
    "    if filtre == \"par genre\":\n",
    "        interact(espece_from_genre, genre=sorted(stras_arbres.essences_dict.keys()))\n",
    "    else:\n",
    "        interact(type_representation, essence=fixed(filtre), representation=representations)\n",
    "\n",
    "def type_representation(essence, representation):\n",
    "    stras_arbres.plot(essence=essence, representation=representation)\n",
    "\n",
    "interact(filtre_essences, filtre=[\"tous\", \"par genre\"]);"
   ]
  }
 ],
 "metadata": {
  "kernelspec": {
   "display_name": "Python 3",
   "language": "python",
   "name": "python3"
  },
  "language_info": {
   "codemirror_mode": {
    "name": "ipython",
    "version": 3
   },
   "file_extension": ".py",
   "mimetype": "text/x-python",
   "name": "python",
   "nbconvert_exporter": "python",
   "pygments_lexer": "ipython3",
   "version": "3.6.2"
  },
  "toc": {
   "base_numbering": 1,
   "nav_menu": {},
   "number_sections": false,
   "sideBar": false,
   "skip_h1_title": false,
   "title_cell": "Table of Contents",
   "title_sidebar": "Contents",
   "toc_cell": false,
   "toc_position": {},
   "toc_section_display": true,
   "toc_window_display": false
  }
 },
 "nbformat": 4,
 "nbformat_minor": 2
}
