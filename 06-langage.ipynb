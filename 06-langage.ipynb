{
 "cells": [
  {
   "cell_type": "markdown",
   "metadata": {
    "slideshow": {
     "slide_type": "slide"
    }
   },
   "source": [
    "# Le langage [3/3]\n",
    "\n",
    "![](fig/python-logo.png)\n",
    "\n",
    "- Structurer un programme\n",
    "- Notions de programmation objet\n",
    "- Classes en Python\n",
    "- Suite du micro-projet\n",
    "- Usages avancés\n",
    "\n",
    "***\n",
    "\n",
    "*Contenu sous licence [CC BY-SA 4.0](https://creativecommons.org/licenses/by-sa/4.0), fortement inspiré de <https://fitzinger.gitlab.io/formation-python>*"
   ]
  },
  {
   "cell_type": "markdown",
   "metadata": {
    "slideshow": {
     "slide_type": "slide"
    }
   },
   "source": [
    "## Structurer un programme\n",
    "\n",
    "### Pourquoi faire ?\n",
    "\n",
    "Le fichier [exos/meteo_json.py](exos/meteo_json.py) du micro-projet est un script linéaire qui n'est pas réutilisable directement depuis un autre programe."
   ]
  },
  {
   "cell_type": "code",
   "execution_count": null,
   "metadata": {
    "slideshow": {
     "slide_type": "-"
    }
   },
   "outputs": [],
   "source": [
    "%matplotlib inline\n",
    "%config InlineBackend.figure_format = 'retina'  # Pour augmenter la résolution\n",
    "%pycat exos/meteo_json.py"
   ]
  },
  {
   "cell_type": "markdown",
   "metadata": {
    "slideshow": {
     "slide_type": "subslide"
    }
   },
   "source": [
    "Si on veut le réutiliser, il faut le structurer en fonctions que l'on peut appeler depuis un programme principal."
   ]
  },
  {
   "cell_type": "code",
   "execution_count": null,
   "metadata": {},
   "outputs": [],
   "source": [
    "# %load exos/meteo_json_func.py\n",
    "#!/usr/bin/env python3\n",
    "\"\"\"\n",
    "Process a weather forecast json file to plot the time evolution of temperature\n",
    "of a given day in a given city\n",
    "\"\"\"\n",
    "\n",
    "import urllib.request\n",
    "import json\n",
    "import matplotlib.pyplot as plt\n",
    "import matplotlib.image as mpimg\n",
    "import numpy as np\n",
    "\n",
    "\n",
    "def get_city_from_user():\n",
    "    \"\"\"From user input, return a meteo json dictionary corresponding to city\"\"\"\n",
    "\n",
    "    while True:  # Infinite loop to handle city name input\n",
    "        city_name = input(\"Entrer la ville :\\n\")\n",
    "        jsonfile_url = \"http://www.prevision-meteo.ch/services/json/\"\\\n",
    "                       + city_name\n",
    "        f = urllib.request.urlopen(jsonfile_url)  # open url\n",
    "        city_json = json.loads(f.read())\n",
    "        if 'errors' in city_json:\n",
    "            print(\"{} n'existe pas dans la base. Essayez un autre nom.\"\n",
    "                  .format(city_name))\n",
    "        else:\n",
    "            return city_json\n",
    "\n",
    "\n",
    "def plot_day_tempe(city_json, day_key):\n",
    "    \"\"\"Plot Temperature vs hour from a json dictionary for a given day_key\"\"\"\n",
    "\n",
    "    city_name = city_json['city_info']['name']\n",
    "    day = city_json[day_key]\n",
    "    day_hd = day['hourly_data']  # point to hourly data\n",
    "\n",
    "    # Get tempe = [[h1, T1], [h2, T2], ...] list\n",
    "    # where h1 is the time in hour and T2 is the temperature in deg. C\n",
    "    tempe = []\n",
    "    for hour, data in day_hd.items():\n",
    "        # get first part of time in \"00H00\" format and remove \"H00\"\n",
    "        # get temperature at 2m above ground 'TMP2m'\n",
    "        tempe.append([int(hour[:-3]), data['TMP2m']])\n",
    "    # Alternative form using list comprehension:\n",
    "    # tempe = [[int(hour[:-3]), data['TMP2m']] for hour, data in day_hd.iteritems()]\n",
    "\n",
    "    tempe.sort()  # Sort temperatures according to the hour of day\n",
    "    t = np.array(tempe).transpose()  # Transpose list of (hour, tempe)\n",
    "\n",
    "    # Plot T = T(hour)\n",
    "    fig = plt.figure()  # initialise figure\n",
    "    title = \"{} {} à {}\".format(day['day_long'], day['date'], city_name)\n",
    "    fig.suptitle(title, fontsize=14, fontweight='bold')\n",
    "\n",
    "    ax = fig.add_subplot(111)  # initialise a plot area\n",
    "    fig.subplots_adjust(top=0.85)\n",
    "    ax.set_title('Evolution horaire')\n",
    "    ax.set_xlabel('Temps [h]')\n",
    "    ax.set_ylabel('Température [deg. C]')\n",
    "\n",
    "    ax.plot(t[0], t[1])  # plot t[1] (tempe) as a function of t[0] (hour)\n",
    "\n",
    "    # Add meteo icon to plot\n",
    "    icon = urllib.request.urlopen(day['icon_big'])  # Open weather icon\n",
    "\n",
    "    axicon = fig.add_axes([0.8, 0.8, 0.15, 0.15])\n",
    "    img = mpimg.imread(icon)  # initialise image\n",
    "    axicon.set_xticks([])  # Remove axes ticks\n",
    "    axicon.set_yticks([])\n",
    "    axicon.imshow(img)  # trigger the image show\n",
    "    plt.show()  # trigger the figure show\n",
    "\n",
    "\n",
    "def get_day(city_json):\n",
    "    \"\"\"From user input, return the day key in json dictonary\"\"\"\n",
    "\n",
    "    days = {day: data['day_long'] for day, data in city_json.items()\n",
    "            if day[:8] == \"fcst_day\"}  # Create {'fcst_day_#': week-day}\n",
    "    question = \"Choisir le jour :\\n\"\n",
    "    days_list = []  # Build ['fcst_day_#', week-day] sorted list\n",
    "    # This i-loop is required because \"days\" is not sorted:\n",
    "    for i in range(5):\n",
    "        key = \"fcst_day_{}\".format(i)\n",
    "        days_list.append([key, days[key]])\n",
    "        question = question + \"{}) {}\\n\".format(i, days[key])\n",
    "    while True:\n",
    "        try:\n",
    "            choice = int(input(question))  # Prompt user for day index\n",
    "            return days_list[choice][0]  # Return 'fcst_day_#'\n",
    "        except:\n",
    "            print(\"Entrée non valide.\")\n",
    "\n",
    "\n",
    "if __name__ == '__main__':\n",
    "    # This block is not executed if this file is imported as a module\n",
    "    city_json = get_city_from_user()  # get json dict from user input\n",
    "    day_key = get_day(city_json)  # get day key from user input\n",
    "    plot_day_tempe(city_json, day_key)  # plot day temperature evolution\n"
   ]
  },
  {
   "cell_type": "markdown",
   "metadata": {
    "slideshow": {
     "slide_type": "subslide"
    }
   },
   "source": [
    "Si on définit une nouvelle fonction pour récupérer le dictionnaire de la ville :"
   ]
  },
  {
   "cell_type": "code",
   "execution_count": null,
   "metadata": {},
   "outputs": [],
   "source": [
    "import sys\n",
    "\n",
    "def get_city(city_name):\n",
    "    \"\"\"return a meteo json dictionary corresponding to city_name\"\"\"\n",
    "\n",
    "    jsonfile_url = \"http://www.prevision-meteo.ch/services/json/\"\\\n",
    "                   + city_name\n",
    "    f = urllib.request.urlopen(jsonfile_url)  # open url\n",
    "    city_json = json.load(f)\n",
    "    if 'errors' in city_json:\n",
    "        msg = \"La ville n'est pas dans la base\"\n",
    "        sys.exit(msg)\n",
    "    else:\n",
    "        return city_json"
   ]
  },
  {
   "cell_type": "markdown",
   "metadata": {
    "slideshow": {
     "slide_type": "subslide"
    }
   },
   "source": [
    "On peut maintenant appeler les fonctions `get_city()` et `plot_day_tempe()` séparément du reste du script :"
   ]
  },
  {
   "cell_type": "code",
   "execution_count": null,
   "metadata": {},
   "outputs": [],
   "source": [
    "city_json = get_city(\"Toulouse\")\n",
    "plot_day_tempe(city_json, 'fcst_day_1')"
   ]
  },
  {
   "cell_type": "markdown",
   "metadata": {
    "slideshow": {
     "slide_type": "slide"
    }
   },
   "source": [
    "## Notions de programmation orientée objet\n",
    "\n",
    "La [programmation orientée objet](https://fr.wikipedia.org/wiki/Programmation_orient%C3%A9e_objet) est un paradigme de programmation qui introduit en particulier les concepts suivants :\n",
    "\n",
    "- encapsulation\n",
    "- classes\n",
    "- objets\n",
    "- héritage"
   ]
  },
  {
   "cell_type": "markdown",
   "metadata": {
    "slideshow": {
     "slide_type": "subslide"
    }
   },
   "source": [
    "### Encapsulation\n",
    "\n",
    "L'encapsulation est la manière d'associer les données et les méthodes qui s'y appliquent dans un même type appelé objet."
   ]
  },
  {
   "cell_type": "markdown",
   "metadata": {
    "slideshow": {
     "slide_type": "fragment"
    }
   },
   "source": [
    "### Classes\n",
    "    \n",
    "- les classes définissent ces types par leurs attributs et leurs méthodes\n",
    "- les méthodes sont des fonctions qui permettent d'agir sur les attributs des objets."
   ]
  },
  {
   "cell_type": "markdown",
   "metadata": {
    "slideshow": {
     "slide_type": "fragment"
    }
   },
   "source": [
    "### Objets\n",
    "\n",
    "Les objets sont les instances de ces classes. Ils sont créés en *appelant* la classe comme une fonction :\n",
    "\n",
    "```python\n",
    "a = MaClasse(45, True, 'toto')\n",
    "b = MaClasse(78, False, 'titi')\n",
    "```\n",
    "\n",
    "L'objet **`a`** est une instance de la classe **`MaClasse`**.  \n",
    "**`b`** est une autre instance de **`MaClasse`**."
   ]
  },
  {
   "cell_type": "markdown",
   "metadata": {
    "slideshow": {
     "slide_type": "subslide"
    }
   },
   "source": [
    "### Héritage\n",
    "\n",
    "- l'héritage permet de créer des classes dérivées qui partagent du code et des données de leur(s) parent(s)\n",
    "- les classes filles héritent des attributs et des méthodes de leur(s) parent(s)\n",
    "- Il est possible d'hériter de plusieurs classes. On parle alors d'héritage multiple."
   ]
  },
  {
   "cell_type": "markdown",
   "metadata": {
    "slideshow": {
     "slide_type": "slide"
    }
   },
   "source": [
    "## Classes en Python\n",
    "\n",
    "### Définir une classe\n",
    "\n",
    "Pour illustrer le mécanisme, on définit une classe appelée `Vecteur()` de la façon suivante :"
   ]
  },
  {
   "cell_type": "code",
   "execution_count": null,
   "metadata": {},
   "outputs": [],
   "source": [
    "class Vecteur():\n",
    "    commentaire = \"Cette classe est top\"\n",
    "\n",
    "    def __init__(self, x, y, z):\n",
    "        self.coord = [x, y, z]"
   ]
  },
  {
   "cell_type": "markdown",
   "metadata": {
    "slideshow": {
     "slide_type": "subslide"
    }
   },
   "source": [
    "### Instancier un objet\n",
    "\n",
    "- Pour instancier une classe, on utilise la notation d'appel de fonction\n",
    "- Cet appel renvoie une instance de la classe"
   ]
  },
  {
   "cell_type": "code",
   "execution_count": null,
   "metadata": {},
   "outputs": [],
   "source": [
    "v1 = Vecteur(1., 2., 3.)\n",
    "v2 = Vecteur(0., 0., 0.)"
   ]
  },
  {
   "cell_type": "markdown",
   "metadata": {},
   "source": [
    "- `v1` et `v2` sont deux instances de la classe `Vecteur`\n",
    "- **`self`** :\n",
    "    - est le premier argument de toutes les fonctions de la classe\n",
    "    - reçoit de manière automatique une référence à l'instance de l'objet\n",
    "    - est nommé ainsi par convention\n",
    "    - est omis lors de l'appel\n",
    "    - dans la définition de la classe les attributs sont référencés par la notation `self.un_attribut`"
   ]
  },
  {
   "cell_type": "markdown",
   "metadata": {
    "slideshow": {
     "slide_type": "subslide"
    }
   },
   "source": [
    "- la méthode **`__init__()`**\n",
    "    - c'est la méthode qui est appelée automatiquement lors de l'instanciation\n",
    "    - elle est appelée *initialiseur*\n",
    "    - elle reçoit les paramètres qui permettent l'initialisation de l'objet\n",
    "- Ici, `commentaire` est un attribut de la classe : il ne dépend pas de son instanciation."
   ]
  },
  {
   "cell_type": "code",
   "execution_count": null,
   "metadata": {},
   "outputs": [],
   "source": [
    "print(Vecteur.commentaire)"
   ]
  },
  {
   "cell_type": "markdown",
   "metadata": {
    "slideshow": {
     "slide_type": "subslide"
    }
   },
   "source": [
    "- `self.coord` est un attribut qui est construit lors de l'instanciation"
   ]
  },
  {
   "cell_type": "code",
   "execution_count": null,
   "metadata": {},
   "outputs": [],
   "source": [
    "print(v1.coord, v2.coord)\n",
    "print('commentaire' in dir(Vecteur))  # dir() renvoie la liste des attributs de l'objet\n",
    "print('commentaire' in dir(v1))\n",
    "print('coord' in dir(Vecteur))\n",
    "print('coord' in dir(v1))"
   ]
  },
  {
   "cell_type": "markdown",
   "metadata": {
    "slideshow": {
     "slide_type": "subslide"
    }
   },
   "source": [
    "### Surcharge d'opérateur\n",
    "\n",
    "La surcharge d'opérateur consiste à redéfinir des fonctions existantes de la classe.\n",
    "Ici, afin de représenter le contenu de l'objet, on surcharge la méthode `__repr__()`."
   ]
  },
  {
   "cell_type": "code",
   "execution_count": null,
   "metadata": {},
   "outputs": [],
   "source": [
    "class Vecteur():\n",
    "    commentaire = \"Cette classe est top\"\n",
    "\n",
    "    def __init__(self, x, y, z):\n",
    "        self.coord = [x, y, z]\n",
    "\n",
    "    def __repr__(self):\n",
    "        \"\"\"On surcharge l'opérateur __repr__ en renvoyant\n",
    "        une chaîne de caractère\"\"\"\n",
    "        s = ''\n",
    "        for c in self.coord:\n",
    "            s += '({})\\n'.format(c)\n",
    "        return s\n"
   ]
  },
  {
   "cell_type": "markdown",
   "metadata": {},
   "source": [
    "La fonction `print()` appliquée à l'instance fait un appel à `__repr__()`."
   ]
  },
  {
   "cell_type": "code",
   "execution_count": null,
   "metadata": {},
   "outputs": [],
   "source": [
    "v1 = Vecteur(1., 2., 3.)\n",
    "print(v1)\n"
   ]
  },
  {
   "cell_type": "markdown",
   "metadata": {
    "slideshow": {
     "slide_type": "subslide"
    }
   },
   "source": [
    "Un autre exemple de surcharge d'une fonction intrinsèque : `__add__()`\n"
   ]
  },
  {
   "cell_type": "code",
   "execution_count": null,
   "metadata": {},
   "outputs": [],
   "source": [
    "def __add__(self, v):\n",
    "    return Vecteur(self.coord[0] + v.coord[0],\n",
    "                   self.coord[1] + v.coord[1],\n",
    "                   self.coord[2] + v.coord[2])\n",
    "\n",
    "Vecteur.__add__ = __add__\n",
    "\n",
    "v1 = Vecteur(1., 2., 3.)\n",
    "v2 = Vecteur(3., 2., 1.)\n",
    "print(v1 + v2)"
   ]
  },
  {
   "cell_type": "markdown",
   "metadata": {
    "slideshow": {
     "slide_type": "subslide"
    }
   },
   "source": [
    "**Exercice :** Implémenter la méthode `scal()` qui renvoie le produit scalaire de deux vecteurs $(\\vec{v}\\cdot \\vec{w} = v_{x}w_{x}+v_{y}w_{y}+v_{z}w_{z})$."
   ]
  },
  {
   "cell_type": "code",
   "execution_count": null,
   "metadata": {
    "solution2": "hidden",
    "solution2_first": true
   },
   "outputs": [],
   "source": [
    "def scal(self, v):\n",
    "    # --- votre code ici ---\n",
    "    pass\n",
    "\n",
    "Vecteur.scal = scal\n",
    "\n",
    "v1 = Vecteur(2., 3., 4.)\n",
    "v2 = Vecteur(6., 4., 3.)\n",
    "print(v1.scal(v2))"
   ]
  },
  {
   "cell_type": "code",
   "execution_count": null,
   "metadata": {
    "solution2": "hidden"
   },
   "outputs": [],
   "source": [
    "# Solution\n",
    "class Vecteur():\n",
    "    commentaire = \"Cette classe est top\"\n",
    "\n",
    "    def __init__(self, x, y, z):\n",
    "        self.coord = [x, y, z]\n",
    "\n",
    "    def __repr__(self):\n",
    "        \"\"\"On surcharge l'opérateur __repr__ pour renvoyer\n",
    "        une chaîne de caractère\"\"\"\n",
    "        s = ''\n",
    "        for c in self.coord:\n",
    "            s += '({})\\n'.format(c)\n",
    "        return s\n",
    "\n",
    "    def __add__(self, v):\n",
    "        return Vecteur(self.coord[0] + v.coord[0],\n",
    "                       self.coord[1] + v.coord[1],\n",
    "                       self.coord[2] + v.coord[2])\n",
    "\n",
    "    def scal(self, v):\n",
    "        return (self.coord[0]*v.coord[0] +\n",
    "                self.coord[1]*v.coord[1] +\n",
    "                self.coord[2]*v.coord[2])\n",
    "\n",
    "if __name__ == '__main__':\n",
    "\n",
    "    v1 = Vecteur(2., 3., 4.)\n",
    "    v2 = Vecteur(6., 4., 3.)\n",
    "    print(v1)\n",
    "    print(v2)\n",
    "    print(v1 + v2)\n",
    "    print(v1.scal(v2))"
   ]
  },
  {
   "cell_type": "markdown",
   "metadata": {
    "slideshow": {
     "slide_type": "subslide"
    }
   },
   "source": [
    "### Héritage\n",
    "\n",
    "Pour spécifier les classes dont on hérite, il suffit de les lister en paramètres de la définition de classe :\n",
    "\n",
    "```python\n",
    "class Fille(Parent1, Parent2):\n",
    "    pass\n",
    "```\n",
    "> **Note :** Nous n'aborderons pas les classes ayant plusieurs parents dans le cadre de ce cours. Vous trouverez la documentation sur ce sujet [ici](https://docs.python.org/3/tutorial/classes.html#inheritance).\n",
    "\n",
    "En guise d'exemple, prenons la classe ci-dessous."
   ]
  },
  {
   "cell_type": "code",
   "execution_count": null,
   "metadata": {},
   "outputs": [],
   "source": [
    "class Humain():\n",
    "\n",
    "    def __init__(self, nom, age):\n",
    "        self.nom = nom\n",
    "        self.age = age\n",
    "\n",
    "    def vieux(self):\n",
    "        return self.age >= 50"
   ]
  },
  {
   "cell_type": "markdown",
   "metadata": {
    "slideshow": {
     "slide_type": "subslide"
    }
   },
   "source": [
    "Créons maintenant des instances de cette classe."
   ]
  },
  {
   "cell_type": "code",
   "execution_count": null,
   "metadata": {
    "slideshow": {
     "slide_type": "-"
    }
   },
   "outputs": [],
   "source": [
    "a = Humain('Alain', 42)\n",
    "b = Humain('Bertrand', 53)\n",
    "c = Humain('Corine', 37)\n",
    "\n",
    "fratrie = [a, b ,c]\n",
    "\n",
    "for h in fratrie:\n",
    "    print('{} est {}'.format(h.nom, 'vieux' if h.vieux() else 'jeune' ))"
   ]
  },
  {
   "cell_type": "markdown",
   "metadata": {
    "slideshow": {
     "slide_type": "subslide"
    }
   },
   "source": [
    "Illustrons maintenant le mécanisme d'héritage."
   ]
  },
  {
   "cell_type": "code",
   "execution_count": null,
   "metadata": {},
   "outputs": [],
   "source": [
    "class Personne(Humain):\n",
    "    \n",
    "    def __init__(self, nom, age, genre):\n",
    "        super().__init__(nom, age)\n",
    "        self.genre = genre\n",
    "    \n",
    "    def porte_les_bebes(self):\n",
    "        return self.genre.lower() in ('f', 'femme', 'fille')\n",
    "\n",
    "    \n",
    "a = Personne('Alain', 42, 'h')\n",
    "b = Personne('Bertrand', 53, 'h')\n",
    "c = Personne('Corinne', 37, 'f')\n",
    "\n",
    "pfratrie = [a, b ,c]"
   ]
  },
  {
   "cell_type": "markdown",
   "metadata": {},
   "source": [
    "- Ici, nous faisons hériter la classe **`Humain`** à la classe **`Personne`**\n",
    "- La classe **`Personne`** hérite des méthodes de la **`Humain`**"
   ]
  },
  {
   "cell_type": "code",
   "execution_count": null,
   "metadata": {},
   "outputs": [],
   "source": [
    "for p in pfratrie:\n",
    "    print('{} est {}.'.format(p.nom, 'vieux' if p.vieux() else 'jeune'))"
   ]
  },
  {
   "cell_type": "markdown",
   "metadata": {
    "slideshow": {
     "slide_type": "subslide"
    }
   },
   "source": [
    "- En redéfinissant la fonction **`__init__()`**, nous *surchargeons* la classe **`Humain`**.\n",
    "- La fonction **`super()`** permet d'appeler le constructeur de la classe mère.\n",
    "- En définissant la fonction **`porte_les_bebes()`**, nous *étendons* la classe **`Humain`**."
   ]
  },
  {
   "cell_type": "code",
   "execution_count": null,
   "metadata": {
    "slideshow": {
     "slide_type": "-"
    }
   },
   "outputs": [],
   "source": [
    "for p in pfratrie:\n",
    "    if p.porte_les_bebes():\n",
    "        print('{} peut porter des bébés.'.format(p.nom))"
   ]
  },
  {
   "cell_type": "markdown",
   "metadata": {
    "slideshow": {
     "slide_type": "slide"
    }
   },
   "source": [
    "## Suite du micro-projet\n",
    "\n",
    "### Objectif pédagogique\n",
    "\n",
    "- Manipuler les fonctions\n",
    "- Manipuler les classes\n",
    "    - Définition\n",
    "    - Instanciation\n",
    "    - Accès aux attributs\n",
    "    - Appel des méthodes\n",
    "- Structurer un projet\n",
    "- Gestion des arguments en ligne de commande\n",
    "- Mettre en place des tests unitaires"
   ]
  },
  {
   "cell_type": "markdown",
   "metadata": {
    "slideshow": {
     "slide_type": "subslide"
    }
   },
   "source": [
    "### Exercice sur les classes\n",
    "\n",
    "On veut superposer les courbes *heure-température* de plusieurs villes sur le même graphe. Pour ce faire, il faut :\n",
    "\n",
    "1. Définir une classe **`City`** qui dispose d'une méthode qui retourne les tableaux 1D *hour* et *temperature* pour un jour donné.\n",
    "2. Instancier cette classe pour construire autant d'objets **City** que nécessaire\n",
    "3. Appeler une fonction qui admet comme arguments les objets **City** ainsi que le numéro du jour\n",
    "\n",
    "Pour vous simplifier le travail, nous avons écrit l'ébauche d'un script python dans [exos/meteo_city.py](exos/meteo_city.py). En l'état, ce script s'exécute mais ne fait rien. Editez-le dans Spyder et écrivez le code nécessaire pour le rendre fonctionnel là où les commentaires vous y invitent."
   ]
  },
  {
   "cell_type": "markdown",
   "metadata": {
    "slideshow": {
     "slide_type": "subslide"
    }
   },
   "source": [
    "Lorsque votre implantation sera terminée, la cellule ci-dessous devra s'exécuter correctement."
   ]
  },
  {
   "cell_type": "code",
   "execution_count": null,
   "metadata": {},
   "outputs": [],
   "source": [
    "%matplotlib inline\n",
    "from exos import meteo_city as meteo\n",
    "toulouse = meteo.City('Toulouse')\n",
    "paris = meteo.City('Paris')\n",
    "meteo.plot_day_temperature(toulouse, paris, day_number=3)"
   ]
  },
  {
   "cell_type": "code",
   "execution_count": null,
   "metadata": {
    "solution2": "hidden",
    "solution2_first": true
   },
   "outputs": [],
   "source": [
    "help(meteo)"
   ]
  },
  {
   "cell_type": "code",
   "execution_count": null,
   "metadata": {
    "solution2": "hidden"
   },
   "outputs": [],
   "source": [
    "# Solution\n",
    "%matplotlib inline\n",
    "from exos.correction import meteo_city as meteo\n",
    "toulouse = meteo.City('Toulouse')\n",
    "paris = meteo.City('Paris')\n",
    "meteo.plot_day_temperature(toulouse, paris, day_number=3)"
   ]
  },
  {
   "cell_type": "markdown",
   "metadata": {
    "slideshow": {
     "slide_type": "subslide"
    }
   },
   "source": [
    "### Exercice avec `argparse`\n",
    "\n",
    "Dans un nouveau fichier python :\n",
    "- importer le fichier `exos/correction/meteo_city.py` comme un module\n",
    "- ajoutez la gestion des arguments en ligne de commande avec `argparse` (cf. [Gestion des arguments](../J2/03-InitPython-microprojet.ipynb#Gestion-des-arguments))"
   ]
  },
  {
   "cell_type": "markdown",
   "metadata": {},
   "source": [
    "La solution est dans le fichier [exos/correction/meteo_argparse.py](exos/correction/meteo_argparse.py) qui est exécutable en ligne de commande :"
   ]
  },
  {
   "cell_type": "code",
   "execution_count": null,
   "metadata": {},
   "outputs": [],
   "source": [
    "# Pour obtenir l'aide de la commande :\n",
    "%run exos/correction/meteo_argparse.py -h"
   ]
  },
  {
   "cell_type": "code",
   "execution_count": null,
   "metadata": {},
   "outputs": [],
   "source": [
    "# Lorsqu'on a compris l'usage de la commande à partir de l'aide :\n",
    "%run exos/correction/meteo_argparse.py -d 0 Toulouse Strasbourg Nice"
   ]
  },
  {
   "cell_type": "markdown",
   "metadata": {
    "slideshow": {
     "slide_type": "subslide"
    }
   },
   "source": [
    "### Exercice sur l'héritage\n",
    "\n",
    "Toujours dans l'objectif de superposer des courbes de températures, on veut pouvoir charger également des données définies par leurs coordonnées géographiques.\n",
    "\n",
    "En effet, le site www.prevision-meteo.ch supporte les requêtes sous la forme   \n",
    "http://www.prevision-meteo.ch/services/json/lat=45.32lng=10  \n",
    "où `lat=45.32lng=10` désigne la latitude et la longitude.  \n",
    "\n",
    "Pour ce faire, à partir de la classe **`City`**, on va dériver la classe **`Location`** qui sera instanciée de la façon suivante :\n",
    "\n",
    "```python\n",
    "trou_perdu = Location(lat=45.32, lng=10)\n",
    "```\n",
    "\n"
   ]
  },
  {
   "cell_type": "markdown",
   "metadata": {
    "slideshow": {
     "slide_type": "subslide"
    },
    "solution2": "hidden",
    "solution2_first": true
   },
   "source": [
    "1. À partir du fichier [exos/correction/meteo_city.py](exos/correction/meteo_city.py), écrivez la classe dérivée **`Location`**.\n",
    "1. À partir de la classe **`Location`**, dérivez la classe **`Here`** qui récupère les coordonnées géographique de la connexion courantes avec le paquet `geocoder` :\n",
    "\n",
    "```python\n",
    "import geocoder\n",
    "g = geocoder.ip('me')\n",
    "print(\"lat: {}, lon: {}\".format(g.latlng[0], g.latlng[1]))\n",
    "```"
   ]
  },
  {
   "cell_type": "markdown",
   "metadata": {
    "solution2": "hidden"
   },
   "source": [
    "Pas si vite ! Êtes-vous sûr ? Vraiment ?  \n",
    "Alors allez voir une proposition de solution dans [exos/exos/correction/meteo_heritage.py](exos/exos/correction/meteo_heritage.py) et le script d'exécution en ligne de commande correspondant [exos/exos/correction/meteo_argparse_heritage.py](exos/exos/correction/meteo_argparse_heritage.py). "
   ]
  },
  {
   "cell_type": "markdown",
   "metadata": {
    "slideshow": {
     "slide_type": "slide"
    }
   },
   "source": [
    "# Usages avancés\n",
    "\n",
    "- expressions lambda\n",
    "- tests unitaires\n",
    "- installer des paquets\n",
    "- environnements virtuels\n",
    "- chaînes de documentation"
   ]
  },
  {
   "cell_type": "markdown",
   "metadata": {
    "slideshow": {
     "slide_type": "slide"
    }
   },
   "source": [
    "## Les expressions lambda\n",
    "\n",
    "Elles permettent de définir très concisement des fonctions anonymes (sans nom, contrairement aux fonctions définis avec `def`).\n",
    "\n",
    "```python\n",
    "# Création d'une fonction que l'on assigne à une variable\n",
    "func = lambda arg1, ...: expr\n",
    "# Appel de fonction par la variable\n",
    "func(...)\n",
    "```\n",
    "\n",
    "ce qui est équivalent à :\n",
    "\n",
    "```python\n",
    "def _noname(arg1, ...):\n",
    "    return expr\n",
    "\n",
    "func = _noname\n",
    "del _noname\n",
    "\n",
    "func(...)\n",
    "```\n",
    "\n",
    "En plus court !"
   ]
  },
  {
   "cell_type": "markdown",
   "metadata": {
    "slideshow": {
     "slide_type": "subslide"
    }
   },
   "source": [
    "Elles sont utilisées par exemple, pour passer des petits bouts de code en paramètre à d'autres fonctions :"
   ]
  },
  {
   "cell_type": "code",
   "execution_count": null,
   "metadata": {
    "slideshow": {
     "slide_type": "-"
    }
   },
   "outputs": [],
   "source": [
    "L1 = list('AlpHabetIZation')\n",
    "L2 = L1[:]\n",
    "print(L1)\n",
    "L1.sort(key=lambda x: x.lower())  # Ce tri respecte l'ordre alphabétique\n",
    "L2.sort()  # Ce tri ne suit que l'ordre ASCII\n",
    "print(L1)\n",
    "print(L2)"
   ]
  },
  {
   "cell_type": "markdown",
   "metadata": {},
   "source": [
    "Plus d'informations sur les expressions [`lambda`](https://docs.python.org/3/tutorial/controlflow.html#lambda-expressions)."
   ]
  },
  {
   "cell_type": "markdown",
   "metadata": {
    "slideshow": {
     "slide_type": "slide"
    }
   },
   "source": [
    "## Les tests unitaires\n",
    "\n",
    "Python permet d'écrire assez facilement des tests unitaires, grâce au module [`unittest`](https://docs.python.org/3/library/unittest.html) de sa librairie standard. Ce module ressemble assez aux tests unitaires java [JUnit](http://junit.org).\n",
    "\n",
    "- [exos/vieux.py](http://localhost:8888/edit/J3/exos/vieux.py) :\n",
    "    - C'est un exemple d'utilisation, sous la forme d'un module importable\n",
    "    - Il définit une fonction **`vieux(age)`** qui retourne une valeur booléenne indiquant si l'âge donné est au-dessus d'un seuil (une constante du module)\n",
    "    - Cette fonction lève des exceptions si le paramètre donné n'est pas valide\n",
    "- [exos/tunitaires.py](http://localhost:8888/edit/J3/exos/tunitaires.py) est un module contenant le code qui permet de tester la fonction **`vieux.vieux()`**"
   ]
  },
  {
   "cell_type": "code",
   "execution_count": null,
   "metadata": {},
   "outputs": [],
   "source": [
    "%run exos/tunitaires.py -v"
   ]
  },
  {
   "cell_type": "markdown",
   "metadata": {
    "slideshow": {
     "slide_type": "subslide"
    }
   },
   "source": [
    "- Il existe une autre philosophie de tests intégrés à la documentation interne : le module [``doctest``](https://docs.python.org/3/library/doctest.html).\n",
    "- Il est possible de combiner ces solutions de testing/documentation.\n",
    "- En pratique dans des projets plus importants, les tests sont agencés en une suite de tests.\n",
    "L'exécution des suites de tests est effectuée grâce à des pilotes comme [pytest](https://docs.pytest.org) ou [nose](https://nose.readthedocs.io).\n",
    "Ces pilotes permettent, entre autres, le lancement de multiples tests en parallèle ainsi que des rapports de couverture de code."
   ]
  },
  {
   "cell_type": "markdown",
   "metadata": {
    "slideshow": {
     "slide_type": "fragment"
    }
   },
   "source": [
    "### Exercice\n",
    "\n",
    "> Ajoutez un module de tests unitaires pour le projet météo."
   ]
  },
  {
   "cell_type": "markdown",
   "metadata": {
    "slideshow": {
     "slide_type": "slide"
    }
   },
   "source": [
    "## Installer des paquets\n",
    "\n",
    "Pour installer des modules additionnels disponibles sur le [Python Package Index](https://pypi.python.org/pypi), vous disposez du gestionnaire de paquet [`pip`](https://pip.pypa.io)\n",
    "\n",
    "```bash\n",
    "pip install pythran\n",
    "```\n",
    "\n",
    "Supposons que votre exécutable python se trouve à l'emplacement :\n",
    "\n",
    "```\n",
    "/repertoire/d/installation/bin/python\n",
    "```\n",
    "\n",
    "Cette commande fera une installation dans le répertoire suivant (exemple pour `python36`) :\n",
    "\n",
    "```\n",
    "/repertoire/d/installation/lib/python3.6/site-packages\n",
    "```\n",
    "\n",
    "Si ce répertoire est un répertoire système, l'installation échouera.\n",
    "Vous devrez alors : \n",
    "\n",
    "- utiliser l'option `--user`\n",
    "- ajouter le chemin `~/.local/lib/python3.6/site-packages` à la variable d'environnement `PYTHONPATH` pour que python trouve les paquets installés au moment d'un `import`.\n",
    "\n",
    "Pour fabriquer des paquets installables avec `pip`, voir [cette page](https://packaging.python.org/)."
   ]
  },
  {
   "cell_type": "markdown",
   "metadata": {
    "slideshow": {
     "slide_type": "slide"
    }
   },
   "source": [
    "## Environnements virtuels\n",
    "\n",
    "Pour pouvoir profiter de plusieurs environnements python qui ont des modules différents installés, il y a le mécanisme  [venv](https://docs.python.org/3/library/venv.html).\n",
    "\n",
    "```bash\n",
    "$ mkdir test_py35\n",
    "$ virtualenv -p python3.5 test_py35\n",
    "$ test_py35/bin/activate\n",
    "(test_py35) $\n",
    "```\n",
    "\n",
    "Vous êtes alors dans un environnement où vous pouvez installer des paquets indépendemment du système :\n",
    "\n",
    "```bash\n",
    "(test_py35) $ pip install pythran\n",
    "```"
   ]
  }
 ],
 "metadata": {
  "celltoolbar": "Slideshow",
  "kernelspec": {
   "display_name": "Python 3",
   "language": "python",
   "name": "python3"
  },
  "language_info": {
   "codemirror_mode": {
    "name": "ipython",
    "version": 3
   },
   "file_extension": ".py",
   "mimetype": "text/x-python",
   "name": "python",
   "nbconvert_exporter": "python",
   "pygments_lexer": "ipython3",
   "version": "3.6.2"
  }
 },
 "nbformat": 4,
 "nbformat_minor": 2
}
