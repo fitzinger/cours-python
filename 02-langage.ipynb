{
 "cells": [
  {
   "cell_type": "markdown",
   "metadata": {
    "slideshow": {
     "slide_type": "slide"
    }
   },
   "source": [
    "# Le langage [1/3]\n",
    "\n",
    "![](fig/python-logo.png)\n",
    "\n",
    "- Variables\n",
    "- Types de données\n",
    "- Fichiers\n",
    "\n",
    "***\n",
    "\n",
    "*Contenu sous licence [CC BY-SA 4.0](https://creativecommons.org/licenses/by-sa/4.0), largement inspiré de <https://fitzinger.gitlab.io/formation-python>*"
   ]
  },
  {
   "cell_type": "markdown",
   "metadata": {
    "slideshow": {
     "slide_type": "slide"
    }
   },
   "source": [
    "## Langage python et sa syntaxe\n",
    "\n",
    "### Variables et assignation\n",
    "\n",
    "Pour accéder à une donnée, on lui donne un nom que l'on appelle variable.\n",
    "Cette opération s'appelle *assignation* (ou *affectation*) et se fait avec l'opérateur `=`.\n",
    "```python\n",
    "variable_x = donnee_x\n",
    "```\n",
    "signifie qu'on affecte la `donnee_x` à la `variable_x`.\n",
    "\n",
    "Exécutez la cellule suivante pour définir trois variables nommées : `age`, `prenom` et `taille`."
   ]
  },
  {
   "cell_type": "code",
   "execution_count": null,
   "metadata": {
    "slideshow": {
     "slide_type": "fragment"
    }
   },
   "outputs": [],
   "source": [
    "# Par exemple: donnons la valeur 23 à la variable 'age'\n",
    "age = 23\n",
    "# Les variables peuvent se référer à divers types de données: des chaînes de caractères...\n",
    "prenom = 'Julien'\n",
    "# Des nombres réels, etc...\n",
    "taille = 1.83"
   ]
  },
  {
   "cell_type": "markdown",
   "metadata": {
    "slideshow": {
     "slide_type": "subslide"
    }
   },
   "source": [
    "### Le mécanisme d'assignation en détail\n",
    "\n",
    "Lorsqu'on fait l'assignation `x = donnee_x`, Python :\n",
    "\n",
    "1. crée et mémorise le nom de variable `x`\n",
    "3. crée un objet dont le type dépend de la nature de la donnée et y stocke la valeur particulière `donnee_x`\n",
    "4. établit une référence entre le nom de la variable `x` et l'emplacement mémoire de `donnee_x`. Cette référence est mémorisée dans l'espace de nom."
   ]
  },
  {
   "cell_type": "markdown",
   "metadata": {
    "slideshow": {
     "slide_type": "subslide"
    }
   },
   "source": [
    "### Accéder à la valeur d'une variable\n",
    "\n",
    "Pour se servir de la donnée référencée par une variable, il suffit d'utiliser le nom cette variable.\n",
    "\n",
    "La fonction [``print()``](https://docs.python.org/3/library/functions.html#print) affiche à l'écran ce qui lui est passé en paramètre. On peut lui donner plusieurs paramètres séparés par des virgules et ``print`` les affichera tous, séparés par un espace."
   ]
  },
  {
   "cell_type": "code",
   "execution_count": null,
   "metadata": {},
   "outputs": [],
   "source": [
    "print('Julien', 23, 1.83)\n",
    "print(prenom, 'a', age, 'ans, et mesure', taille, 'mètre')"
   ]
  },
  {
   "cell_type": "markdown",
   "metadata": {
    "slideshow": {
     "slide_type": "subslide"
    }
   },
   "source": [
    "Les variables peuvent changer et ainsi se référer à une autre donnée."
   ]
  },
  {
   "cell_type": "code",
   "execution_count": null,
   "metadata": {
    "slideshow": {
     "slide_type": "-"
    }
   },
   "outputs": [],
   "source": [
    "age = 23\n",
    "print(age)\n",
    "age = 24\n",
    "print(age)"
   ]
  },
  {
   "cell_type": "markdown",
   "metadata": {
    "slideshow": {
     "slide_type": "subslide"
    }
   },
   "source": [
    "### L'assignation du point de vue de l'objet\n",
    "\n",
    "En python, toute donnée est vue comme un objet.\n",
    "Assigner une valeur à une variable revient à nommer un objet, c'est-à-dire référencer cet objet par un nom.\n",
    "\n",
    "Exemple avec l'entier `7` :\n",
    "\n",
    "- pour Python, `7` est l'objet de type entier (`int`) dont la donnée est `7`\n",
    "- lorsqu'on appelle la donnée `7` dans un programme, Python créé l'objet correspondant et lui affecte un identifiant unique dans l'espace de nom courant.\n",
    "- cet identifiant est renvoyé par la fonction intrinsèque [`id()`](https://docs.python.org/3/library/functions.html#id) :"
   ]
  },
  {
   "cell_type": "code",
   "execution_count": null,
   "metadata": {},
   "outputs": [],
   "source": [
    "print(id(7))"
   ]
  },
  {
   "cell_type": "markdown",
   "metadata": {
    "slideshow": {
     "slide_type": "subslide"
    }
   },
   "source": [
    "```python\n",
    "x = 7\n",
    "```\n",
    "signifie qu'on nomme l'objet `7` avec la variable `x`.\n",
    "Autrement dit, `x` devient une référence vers cet objet."
   ]
  },
  {
   "cell_type": "code",
   "execution_count": null,
   "metadata": {},
   "outputs": [],
   "source": [
    "print(id(7))\n",
    "x = 7\n",
    "print(id(x))\n",
    "y = x\n",
    "print(id(y))  # y référence le même objet que x"
   ]
  },
  {
   "cell_type": "markdown",
   "metadata": {
    "slideshow": {
     "slide_type": "subslide"
    }
   },
   "source": [
    "### Le type\n",
    "\n",
    "Les variables n'ont pas de type propre : c'est la donnée qui est typée, pas la variable qui la référence.\n",
    "Une variable peut donc faire référence à une donnée d'un autre type après une nouvelle assignation.\n",
    "\n",
    "La fonction [`type()`](https://docs.python.org/3/library/functions.html#type) retourne le type effectif de la donnée passée en paramètre."
   ]
  },
  {
   "cell_type": "code",
   "execution_count": null,
   "metadata": {
    "slideshow": {
     "slide_type": "-"
    }
   },
   "outputs": [],
   "source": [
    "# Des nombres\n",
    "age = 23\n",
    "print(type(age))"
   ]
  },
  {
   "cell_type": "code",
   "execution_count": null,
   "metadata": {},
   "outputs": [],
   "source": [
    "# Les variables peuvent aussi changer de type : chaîne de caractères\n",
    "age = 'vingt quatre ans'\n",
    "print(type(age))"
   ]
  },
  {
   "cell_type": "code",
   "execution_count": null,
   "metadata": {},
   "outputs": [],
   "source": [
    "# Sans limites...\n",
    "age = 24.5\n",
    "print(type(age))"
   ]
  },
  {
   "cell_type": "code",
   "execution_count": null,
   "metadata": {},
   "outputs": [],
   "source": [
    "# Attention aux pièges...\n",
    "age = '25'\n",
    "print(type(age))"
   ]
  },
  {
   "cell_type": "markdown",
   "metadata": {
    "slideshow": {
     "slide_type": "subslide"
    }
   },
   "source": [
    "Une variable peut être initialisée avec des valeurs constantes, comme vu précédement, mais aussi à partir d'autres variables ou des valeurs de retour de fonctions, etc.\n",
    "\n",
    "La fonction [max()](https://docs.python.org/3/library/functions.html#min) retourne le plus grand de ses paramètres."
   ]
  },
  {
   "cell_type": "code",
   "execution_count": null,
   "metadata": {},
   "outputs": [],
   "source": [
    "a = 1\n",
    "b = a\n",
    "c = a * 2\n",
    "d = max(a, 2, 3, c)\n",
    "print(a, b, c, d)"
   ]
  },
  {
   "cell_type": "markdown",
   "metadata": {
    "slideshow": {
     "slide_type": "subslide"
    }
   },
   "source": [
    "Les variables, une fois définies dans une cellule **exécutée**, continuent d'exister dans les suivantes.\n",
    "\n",
    "> **Note :** En cas de redémarrage du notebook, toutes les variables existantes sont détruites, il faut donc ré-exécuter les cellules qui les définissent si l'on veut de nouveau pouvoir les utiliser."
   ]
  },
  {
   "cell_type": "code",
   "execution_count": null,
   "metadata": {
    "slideshow": {
     "slide_type": "-"
    }
   },
   "outputs": [],
   "source": [
    "abcd = 1234"
   ]
  },
  {
   "cell_type": "markdown",
   "metadata": {},
   "source": [
    "Ici, la variable nommée ``abcd`` survit, d'une cellule à la suivante..."
   ]
  },
  {
   "cell_type": "code",
   "execution_count": null,
   "metadata": {},
   "outputs": [],
   "source": [
    "print(abcd)"
   ]
  },
  {
   "cell_type": "markdown",
   "metadata": {
    "slideshow": {
     "slide_type": "subslide"
    }
   },
   "source": [
    "Si on veut faire disparaître une variable, on peut utiliser la fonction [`del()`](https://docs.python.org/3/reference/simple_stmts.html#the-del-statement)."
   ]
  },
  {
   "cell_type": "code",
   "execution_count": null,
   "metadata": {},
   "outputs": [],
   "source": [
    "# Cette cellule génère une erreur\n",
    "a = 2\n",
    "print(a)\n",
    "del(a)\n",
    "print(a)"
   ]
  },
  {
   "cell_type": "markdown",
   "metadata": {},
   "source": [
    "**Note :** [``del``](https://docs.python.org/3/reference/simple_stmts.html#the-del-statement) est aussi utilisé pour enlever des éléments dans des conteneurs modifiables (listes, dictionnaires). Nous aborderons ce sujet plus tard."
   ]
  },
  {
   "cell_type": "markdown",
   "metadata": {
    "slideshow": {
     "slide_type": "slide"
    }
   },
   "source": [
    "## Types de données\n",
    "\n",
    "#### Types de base\n",
    "- None\n",
    "- Booléens\n",
    "- Numériques\n",
    "    - entiers\n",
    "    - flottants\n",
    "    - complexes"
   ]
  },
  {
   "cell_type": "markdown",
   "metadata": {
    "slideshow": {
     "slide_type": "fragment"
    }
   },
   "source": [
    "#### Séquences\n",
    "- Chaines de caractères\n",
    "- listes\n",
    "- tuples"
   ]
  },
  {
   "cell_type": "markdown",
   "metadata": {
    "slideshow": {
     "slide_type": "fragment"
    }
   },
   "source": [
    "#### Conteneurs\n",
    "- Dictionnaires\n",
    "- Ensembles"
   ]
  },
  {
   "cell_type": "markdown",
   "metadata": {
    "slideshow": {
     "slide_type": "fragment"
    }
   },
   "source": [
    "#### Fichiers"
   ]
  },
  {
   "cell_type": "markdown",
   "metadata": {
    "slideshow": {
     "slide_type": "slide"
    }
   },
   "source": [
    "## Types de base\n",
    "\n",
    "### `None`\n",
    "\n",
    "- Il existe dans python un type de données particulier : `None`.\n",
    "- `None` représente un objet sans valeur. On s'en sert comme valeur de retour en cas d'erreur ou pour représenter un cas particulier.\n",
    "- `None` est équivalent à `NULL` en Java et en C."
   ]
  },
  {
   "cell_type": "code",
   "execution_count": null,
   "metadata": {},
   "outputs": [],
   "source": [
    "a = None\n",
    "print(a)\n",
    "print(type(a))"
   ]
  },
  {
   "cell_type": "markdown",
   "metadata": {
    "slideshow": {
     "slide_type": "subslide"
    }
   },
   "source": [
    "### Booléens\n",
    "\n",
    "Les booléens ne peuvent avoir que deux valeurs :\n",
    "\n",
    "```python\n",
    "True, False\n",
    "```\n",
    "\n",
    "On peut utiliser la fonction [`bool()`](https://docs.python.org/3/library/functions.html#bool) pour construire un booléen.\n",
    "    \n",
    "Dans un contexte booléen, toutes ces valeurs sont équivalentes à `False` :\n",
    "\n",
    "- `None`\n",
    "- le zéro des types numériques, par exemple : `0, 0.0, 0j`.\n",
    "- les séquences vides, par exemple : `'', (), []`.\n",
    "- les dictionnaires vides, par exemple, `{}`.\n",
    "\n",
    "Tout le reste est équivalent à `True` :\n",
    "\n",
    "- une valeur numérique différente de zéro\n",
    "- une séquence non vide\n",
    "- un dictionnaire non vide"
   ]
  },
  {
   "cell_type": "markdown",
   "metadata": {
    "slideshow": {
     "slide_type": "subslide"
    }
   },
   "source": [
    "#### Exemples de constructions de valeurs booléennes à partir d'autres types"
   ]
  },
  {
   "cell_type": "code",
   "execution_count": null,
   "metadata": {},
   "outputs": [],
   "source": [
    "print(bool(None), bool())\n",
    "print(bool(0), bool(1))\n",
    "print(bool(0.0), bool(0.5))\n",
    "print(bool(0j), bool(3j))\n",
    "print(bool(''), bool('abc'))\n",
    "print(bool(()), bool((1, 0.5, 'toto')))\n",
    "print(bool([]), bool([None]))\n",
    "print(bool({}), bool({'ane': True, 'chat': True}))"
   ]
  },
  {
   "cell_type": "markdown",
   "metadata": {
    "slideshow": {
     "slide_type": "subslide"
    }
   },
   "source": [
    "#### Exemple d'utilisation d'un contexte booléen"
   ]
  },
  {
   "cell_type": "code",
   "execution_count": null,
   "metadata": {},
   "outputs": [],
   "source": [
    "Am_I_OK = True\n",
    "if Am_I_OK:\n",
    "    print('OK')\n",
    "else:\n",
    "    print('KO')\n",
    "print(Am_I_OK)\n",
    "print(type(Am_I_OK))"
   ]
  },
  {
   "cell_type": "markdown",
   "metadata": {
    "slideshow": {
     "slide_type": "-"
    }
   },
   "source": [
    "> **Exercice :**\n",
    "> 1. Supposons que vous soyez malade, mettez `Am_I_OK` à la valeur `False` puis réexecutez la cellule.\n",
    "> 2. Essayez avec d'autres types : `list`, `None`, nombres, etc..."
   ]
  },
  {
   "cell_type": "markdown",
   "metadata": {
    "slideshow": {
     "slide_type": "subslide"
    }
   },
   "source": [
    "### Numériques\n",
    "\n",
    "#### Entiers\n",
    "\n",
    "La taille est illimitée."
   ]
  },
  {
   "cell_type": "code",
   "execution_count": null,
   "metadata": {},
   "outputs": [],
   "source": [
    "# Il n'y a plus de distinction entre les entiers \"courts\" et les entiers \"longs\"\n",
    "entier = 4\n",
    "print(entier)\n",
    "print(type(entier))\n",
    "# Ce nombre nécéssite 131 bits\n",
    "entier = 1415926535897932384626433832795028841971\n",
    "print(entier)\n",
    "print(type(entier))"
   ]
  },
  {
   "cell_type": "markdown",
   "metadata": {},
   "source": [
    "> **Note :** En python version < 3.0, il existait deux types distincts ``int`` et ``long``..."
   ]
  },
  {
   "cell_type": "markdown",
   "metadata": {
    "slideshow": {
     "slide_type": "subslide"
    }
   },
   "source": [
    "- On peut utiliser la fonction interne [``int()``](https://docs.python.org/3/library/functions.html#int) pour créer des nombres entiers.\n",
    "- `int()` peut créer des entiers à partir de leur représentation sous forme de chaîne de caractères\n",
    "- On peut aussi spécifier la base :"
   ]
  },
  {
   "cell_type": "code",
   "execution_count": null,
   "metadata": {},
   "outputs": [],
   "source": [
    "entier = int(12)\n",
    "print(entier)\n",
    "print(type(entier))\n",
    "entier = int('13')\n",
    "print(entier)\n",
    "print(type(entier))\n",
    "entier = int('0xFF', 16)\n",
    "print(entier)\n",
    "print(type(entier))"
   ]
  },
  {
   "cell_type": "markdown",
   "metadata": {
    "slideshow": {
     "slide_type": "subslide"
    }
   },
   "source": [
    "#### Flottants (réels 64 bits)\n",
    "\n",
    "Pour créer des nombres réels (en virgule flottante), on peut utiliser la fonction interne [``float()``](https://docs.python.org/3/library/functions.html#float).\n",
    "\n",
    "La précision est limitée à la 16ème décimale."
   ]
  },
  {
   "cell_type": "code",
   "execution_count": null,
   "metadata": {},
   "outputs": [],
   "source": [
    "pi_approx = 3.1415926535897932\n",
    "print(pi_approx)\n",
    "print(type(pi_approx))\n",
    "print('{:.16f}'.format(pi_approx))\n",
    "tropgros = float('Infinity')\n",
    "print(type(tropgros))\n",
    "print(tropgros)"
   ]
  },
  {
   "cell_type": "markdown",
   "metadata": {
    "slideshow": {
     "slide_type": "subslide"
    }
   },
   "source": [
    "#### Flottants\n",
    "\n",
    "Attention ! Python autorise un affichage plus long que la précision des flottants mais tous les chiffres après le 16ème chiffre significatif sont faux :"
   ]
  },
  {
   "cell_type": "code",
   "execution_count": null,
   "metadata": {},
   "outputs": [],
   "source": [
    "# On demande 20 chiffres après la virgule, alors que 16 seulement sont exacts\n",
    "print('{:.20f}'.format(pi_approx))"
   ]
  },
  {
   "cell_type": "markdown",
   "metadata": {
    "slideshow": {
     "slide_type": "subslide"
    }
   },
   "source": [
    "Attention à ne pas effectuer des opérations interdites..."
   ]
  },
  {
   "cell_type": "code",
   "execution_count": null,
   "metadata": {},
   "outputs": [],
   "source": [
    "# Cette cellule génère une erreur\n",
    "print(3.14 / 0)"
   ]
  },
  {
   "cell_type": "code",
   "execution_count": null,
   "metadata": {},
   "outputs": [],
   "source": [
    "# Cette cellule génère une erreur\n",
    "print(34 % 0)"
   ]
  },
  {
   "cell_type": "code",
   "execution_count": null,
   "metadata": {},
   "outputs": [],
   "source": [
    "# Cette cellule génère une erreur\n",
    "print(27 // 0.0)"
   ]
  },
  {
   "cell_type": "code",
   "execution_count": null,
   "metadata": {},
   "outputs": [],
   "source": [
    "# Cette cellule génère une erreur\n",
    "print(1 + None)"
   ]
  },
  {
   "cell_type": "markdown",
   "metadata": {
    "slideshow": {
     "slide_type": "subslide"
    }
   },
   "source": [
    "#### Complexes\n",
    "\n",
    "Les nombres complexes, à deux dimensions, peuvent être créés en utilisant le suffixe `j` à la fin d'un entier ou réel ou en utilisant la fonction interne [`complex()`](https://docs.python.org/3/library/functions.html#complex)"
   ]
  },
  {
   "cell_type": "code",
   "execution_count": null,
   "metadata": {},
   "outputs": [],
   "source": [
    "complexe = 1 + 2j\n",
    "print('représentation :', complexe)\n",
    "print(type(complexe))\n",
    "c = .3j\n",
    "print(c)"
   ]
  },
  {
   "cell_type": "markdown",
   "metadata": {
    "slideshow": {
     "slide_type": "slide"
    }
   },
   "source": [
    "## Séquences\n",
    "\n",
    "Les séquences sont des conteneurs d'objets où les objets référencés sont ordonnés.\n",
    "\n",
    "Python supporte nativement trois types de séquences :\n",
    "\n",
    "- les chaînes de caractères\n",
    "- les listes\n",
    "- les tuples"
   ]
  },
  {
   "cell_type": "markdown",
   "metadata": {
    "slideshow": {
     "slide_type": "slide"
    }
   },
   "source": [
    "### Chaînes de caractères\n",
    "\n",
    "Pour le traitement de données textuelles, python utilise les chaînes de caractères.\n",
    "\n",
    "Pour délimiter le texte on utilise des guillemets `\"` (double-quote) ou des apostrophes `'` (single-quote)."
   ]
  },
  {
   "cell_type": "code",
   "execution_count": null,
   "metadata": {},
   "outputs": [],
   "source": [
    "mois1 = 'janvier'\n",
    "mois2 = \"février\"\n",
    "print(mois1, mois2)"
   ]
  },
  {
   "cell_type": "markdown",
   "metadata": {
    "slideshow": {
     "slide_type": "subslide"
    }
   },
   "source": [
    "Les deux formes sont très utiles car elles permettent d'utiliser des guillemets ou des apostrophes dans des chaîne de caractères de manière simple."
   ]
  },
  {
   "cell_type": "code",
   "execution_count": null,
   "metadata": {},
   "outputs": [],
   "source": [
    "arbre = \"l'olivier\"\n",
    "print(arbre)\n",
    "cuisson_pates = \"huit minutes (8')\"\n",
    "print(cuisson_pates)\n",
    "record_100m = 'neuf secondes et 58 dixièmes (9\"58)'\n",
    "print(record_100m)"
   ]
  },
  {
   "cell_type": "markdown",
   "metadata": {
    "slideshow": {
     "slide_type": "subslide"
    }
   },
   "source": [
    "Sinon, pour avoir une apostrophe ou un guillemet dans une chaîne de caractères, il faut le faire précéder d'un ``\\`` (backslash). Ce qui est beaucoup moins lisible, mais parfois obligatoire (par exemple une chaîne avec à la fois des guillemets et des apostrophes)."
   ]
  },
  {
   "cell_type": "code",
   "execution_count": null,
   "metadata": {},
   "outputs": [],
   "source": [
    "arbre = 'l\\'alisier'\n",
    "pates = '8\\''\n",
    "record = \"9\\\"58\"\n",
    "print(arbre, pates, record)\n",
    "duel = 'guillemet: \" et apostrophes: \\' peuvent être utilisés dans une même chaîne...'\n",
    "print(duel)\n",
    "multi = '''Dans une \"triplequoted\" (voire plus loin), on peut (presque) tout utiliser: `\"“ ”,'\"«»'\"' et ça ne pose pas de problème...'''\n",
    "print(multi)"
   ]
  },
  {
   "cell_type": "markdown",
   "metadata": {
    "slideshow": {
     "slide_type": "subslide"
    }
   },
   "source": [
    "#### Caractères spéciaux \n",
    "\n",
    "Il est possible de définir des chaînes de caractères qui contiennent des caractères spéciaux. Ils sont introduits par des séquences de deux caractères dont le premier est `\\`. On l'appelle le caractère d'échappement.\n",
    "\n",
    "- retour à la ligne : ``\\n``\n",
    "- tabulation : ``\\t``\n",
    "- backslash : ``\\\\``\n",
    "- un caractère unicode avec son code : ``\\uXXXX`` (où les ``XXXX`` sont le code hexadécimal représentant ce caractère)\n",
    "\n",
    "Plus d'information dans la [documentation officielle](https://docs.python.org/3/tutorial/introduction.html#strings)"
   ]
  },
  {
   "cell_type": "code",
   "execution_count": null,
   "metadata": {},
   "outputs": [],
   "source": [
    "print(\"Une belle présentation, c'est :\")\n",
    "print('\\t- bien ordonné')\n",
    "print('\\t- aligné')\n",
    "print(\"\\t- même s'il y en a plein\\nEt c'est plus joli.\")"
   ]
  },
  {
   "cell_type": "markdown",
   "metadata": {
    "slideshow": {
     "slide_type": "subslide"
    }
   },
   "source": [
    "#### Chaînes multilignes \n",
    "\n",
    "Pour écrire plusieurs lignes d'une façon plus lisible, il existe les chaînes multilignes :"
   ]
  },
  {
   "cell_type": "code",
   "execution_count": null,
   "metadata": {},
   "outputs": [],
   "source": [
    "# L'équivalent est :\n",
    "print(\"\"\"\\\n",
    "Une belle présentation, c'est :\n",
    "\\t- bien ordonné\n",
    "\\t- aligné\n",
    "\\t- même s'il y en a plein\n",
    "Et c'est plus joli.\"\"\")"
   ]
  },
  {
   "cell_type": "markdown",
   "metadata": {},
   "source": [
    "> **Exercice** : enlevez le caractère `\\` de la 2ème ligne dans la cellule ci-dessus, et comparez le résultat à celui de la cellule de code précédente (3 cellules plus haut)"
   ]
  },
  {
   "cell_type": "markdown",
   "metadata": {
    "slideshow": {
     "slide_type": "subslide"
    }
   },
   "source": [
    "Les deux formes de délimiteurs sont aussi utilisables : guillemets triples ou apostrophes triples."
   ]
  },
  {
   "cell_type": "code",
   "execution_count": null,
   "metadata": {},
   "outputs": [],
   "source": [
    "multi1 = '''m\n",
    "a\n",
    "r\n",
    "s est un mois \"multiligne\"'''\n",
    "print(multi1, '\\n')\n",
    "\n",
    "multi2 = \"\"\"a\n",
    "v\n",
    "r\n",
    "i\n",
    "l l'est aussi\"\"\"\n",
    "print(multi2)\n"
   ]
  },
  {
   "cell_type": "markdown",
   "metadata": {
    "slideshow": {
     "slide_type": "subslide"
    }
   },
   "source": [
    "#### Unicode\n",
    "\n",
    "En python 3 , toutes les chaînes de caractères sont unicode, ce qui permet d'utiliser des alphabets différents, des caractères accentués ou des pictogrammes, etc.\n",
    "\n",
    "Exemples de caractères spéciaux :"
   ]
  },
  {
   "cell_type": "code",
   "execution_count": null,
   "metadata": {},
   "outputs": [],
   "source": [
    "unicode_str = \"Les échecs (♔♕♖♗♘♙), c'est \\u263A\"\n",
    "print(unicode_str)\n",
    "japanese_str = 'Du japonais : ウェブ'\n",
    "print(japanese_str)\n",
    "mix_str = '你好 kollha दुनिया'\n",
    "print('\"' + mix_str + '\"', 'veut dire: \"bonjour tout le monde\"')"
   ]
  },
  {
   "cell_type": "markdown",
   "metadata": {},
   "source": [
    "Pour une liste de caractères unicode, voir [ici](https://en.wikipedia.org/wiki/List_of_Unicode_characters)."
   ]
  },
  {
   "cell_type": "markdown",
   "metadata": {
    "slideshow": {
     "slide_type": "subslide"
    }
   },
   "source": [
    "#### Chaînes brutes *(raw strings)*\n",
    "\n",
    "Il s'agit de chaînes dans lesquelles les séquences d'échappement ne sont pas remplacées : `r'...'`, `r'''...'''`, etc."
   ]
  },
  {
   "cell_type": "code",
   "execution_count": null,
   "metadata": {},
   "outputs": [],
   "source": [
    "normal_str = \"chaîne normale: \\n est un retour à la ligne, \\t est une tabulation\"\n",
    "print(normal_str)\n",
    "\n",
    "raw_str = r\"chaîne RAW: \\n est un retour à la ligne, \\t est une tabulation\"\n",
    "print(raw_str)"
   ]
  },
  {
   "cell_type": "markdown",
   "metadata": {
    "slideshow": {
     "slide_type": "subslide"
    }
   },
   "source": [
    "#### Concaténation\n",
    "\n",
    "Plusieurs chaînes de caractères contigües sont rassemblées."
   ]
  },
  {
   "cell_type": "code",
   "execution_count": null,
   "metadata": {},
   "outputs": [],
   "source": [
    "b = 'a' 'z' 'e' 'r' 't' 'y'\n",
    "print(b)"
   ]
  },
  {
   "cell_type": "markdown",
   "metadata": {},
   "source": [
    "On peut mélanger les genres."
   ]
  },
  {
   "cell_type": "code",
   "execution_count": null,
   "metadata": {},
   "outputs": [],
   "source": [
    "a = 'une chaine qui est ' r'''la somme de ''' \"\"\"plusieurs morceaux...\"\"\"\n",
    "print(a)"
   ]
  },
  {
   "cell_type": "markdown",
   "metadata": {
    "slideshow": {
     "slide_type": "subslide"
    }
   },
   "source": [
    "On peut utiliser la fonction ``str()`` pour créer une chaîne de caractère à partir d'autres objets."
   ]
  },
  {
   "cell_type": "code",
   "execution_count": null,
   "metadata": {},
   "outputs": [],
   "source": [
    "a = 23\n",
    "ch_a = str(a)\n",
    "print(type(a), a)\n",
    "print(type(ch_a), repr(ch_a))\n",
    "a = 3.14\n",
    "ch_a = str(a)\n",
    "print(type(a), a)\n",
    "print(type(ch_a), repr(ch_a))"
   ]
  },
  {
   "cell_type": "markdown",
   "metadata": {
    "slideshow": {
     "slide_type": "subslide"
    }
   },
   "source": [
    "On ne peut pas mélanger les guillemets et les apostrophes pour délimiter une chaîne de caractères."
   ]
  },
  {
   "cell_type": "code",
   "execution_count": null,
   "metadata": {},
   "outputs": [],
   "source": [
    "# Cette cellule génère une erreur\n",
    "a = \"azerty'"
   ]
  },
  {
   "cell_type": "code",
   "execution_count": null,
   "metadata": {},
   "outputs": [],
   "source": [
    "# Cette cellule génère une erreur\n",
    "a = 'azerty\""
   ]
  },
  {
   "cell_type": "markdown",
   "metadata": {},
   "source": [
    "> **Exercice** : corrigez les deux cellules ci dessus."
   ]
  },
  {
   "cell_type": "markdown",
   "metadata": {
    "slideshow": {
     "slide_type": "subslide"
    }
   },
   "source": [
    "#### Le formatage de chaîne de caractère avec `format()`\n",
    "\n",
    "On peut formater du texte, c'est à dire utiliser une chaîne de caractères qui va servir de modèle pour en fabriquer d'autres.\n",
    "Historiquement, il existe plusieurs méthodes mais nous ne voyons ici qu'une utilisation basique de la méthode [`format()`](https://docs.python.org/3/library/stdtypes.html#str.format)."
   ]
  },
  {
   "cell_type": "markdown",
   "metadata": {
    "slideshow": {
     "slide_type": "subslide"
    }
   },
   "source": [
    "\n",
    "`format()` remplace les occurences de ``'{}'`` par des valeurs qu'on lui spécifie en paramètre.\n",
    "Le type des valeurs passées n'est pas important, une représentation sous forme de chaîne de caractère sera automatiquement créée, avec la fonction [``str()``](https://docs.python.org/3/library/functions.html#func-str).\n",
    "\n",
    "```python\n",
    "'Bonjour {} !'.format('le monde')\n",
    "```"
   ]
  },
  {
   "cell_type": "code",
   "execution_count": null,
   "metadata": {},
   "outputs": [],
   "source": [
    "variable_1 = 27\n",
    "variable_2 = 'vingt huit'\n",
    "ch_modele = 'Une chaine qui contient un {} ainsi que {} et là {}'\n",
    "ch_modele.format('toto', variable_1, variable_2) "
   ]
  },
  {
   "cell_type": "markdown",
   "metadata": {
    "slideshow": {
     "slide_type": "subslide"
    }
   },
   "source": [
    "#### Les spécifications de format\n",
    "\n",
    "Des indicateurs peuvent être fournis à la méthode `format()` pour spécifier le type de donnée à intégrer et la manière de formater sa représentation.\n",
    "\n",
    "- `:d` pour des entiers\n",
    "- `:s` pour des chaînes de caractères\n",
    "- `:f` pour des nombres flottants\n",
    "- `:x` pour un nombre entier affiché en base hexadécimale\n",
    "- `:o` pour un nombre entier affiché en base octale\n",
    "- `:e` pour un nombre affiché en notation exponentielle"
   ]
  },
  {
   "cell_type": "code",
   "execution_count": null,
   "metadata": {},
   "outputs": [],
   "source": [
    "import math\n",
    "a = 27\n",
    "print(\"\"\"un entier : {:d},\n",
    "une chaîne : {:s},\n",
    "un flottant avec une précision spécifiée : {:.02f}\"\"\".format(a, 'Arte', math.pi))\n",
    "print('Des hexadécimaux: {:x} {:x} {:x} {:x}'.format(254, 255, 256, 257))\n",
    "print('Des octaux: {:o} {:o} {:o} {:o}'.format(254, 255, 256, 257))\n",
    "print('Des nombres en notation exponentielle {:e}'.format(2**64))"
   ]
  },
  {
   "cell_type": "markdown",
   "metadata": {
    "slideshow": {
     "slide_type": "subslide"
    }
   },
   "source": [
    "**Attention :** Si le type de la donnée passée ne correspond pas à la séquence de formatage, python va remonter une erreur."
   ]
  },
  {
   "cell_type": "code",
   "execution_count": null,
   "metadata": {},
   "outputs": [],
   "source": [
    "# Cette cellule génère une erreur\n",
    "variable_3 = 'une chaine de caracteres'\n",
    "# Exemple d'erreur de type : on fournit une chaîne de caractères\n",
    "# alors que la méthode attend un entier\n",
    "print('on veut un entier : {:d}'.format(variable_3))"
   ]
  },
  {
   "cell_type": "markdown",
   "metadata": {
    "slideshow": {
     "slide_type": "subslide"
    }
   },
   "source": [
    "On peut se servir de cette fonctionnalité pour tabuler du texte de taille variable."
   ]
  },
  {
   "cell_type": "code",
   "execution_count": null,
   "metadata": {},
   "outputs": [],
   "source": [
    "ani_mots = ('ane', 'becasse', 'chat', 'dinde', 'elephant')\n",
    "print(\"\"\"\n",
    "Alignons à droite les animaux:\n",
    "Un animal : {:>8s}.\n",
    "Un animal : {:>8s}.\n",
    "Un animal : {:>18s}, qui se croit plus malin que les autres.\n",
    "Un animal : {:>8s}.\n",
    "Un animal : {:>8s}.\"\"\".format(*ani_mots))"
   ]
  },
  {
   "cell_type": "markdown",
   "metadata": {},
   "source": [
    "> **Exercice** : remettez le chat à sa place."
   ]
  },
  {
   "cell_type": "markdown",
   "metadata": {
    "slideshow": {
     "slide_type": "subslide"
    }
   },
   "source": [
    "#### *f-string*\n",
    "\n",
    "Depuis Python 3.6, il existe une autre syntaxe appelée *f-string* qui ajoute de la concision et de la lisibilité :\n",
    "```python\n",
    "f\"La {<variable>:<format>} est nommée dans la chaîne.\"\n",
    "```"
   ]
  },
  {
   "cell_type": "code",
   "execution_count": null,
   "metadata": {},
   "outputs": [],
   "source": [
    "print('pi sur 3 décimales : {:.03f}'.format(math.pi))\n",
    "# devient\n",
    "print(f'pi sur 3 décimales : {math.pi:.03f}')"
   ]
  },
  {
   "cell_type": "markdown",
   "metadata": {},
   "source": [
    "**Remarques :**\n",
    "\n",
    "- cette syntaxe n'est pas toujours utilisable (elle ne l'est pas dans l'exemple sur les `ani_mots`)\n",
    "- le code sera incompatible avec python < 3.6"
   ]
  },
  {
   "cell_type": "markdown",
   "metadata": {},
   "source": [
    "Pour plus d'informations sur le formatage de chaînes de caractères, voir la [doc Python](https://docs.python.org/3/library/string.html#formatstrings) correspondante"
   ]
  },
  {
   "cell_type": "markdown",
   "metadata": {
    "slideshow": {
     "slide_type": "slide"
    }
   },
   "source": [
    "### Listes\n",
    "\n",
    "- Une liste est un objet pouvant contenir d'autres objets\n",
    "- Ces objets, appelés éléments, sont ordonnés de façon séquentielle, les uns à la suite des autres\n",
    "- C'est un conteneur dynamique dont le nombre et l'ordre des éléments peuvent varier\n",
    "\n",
    "On crée une liste en délimitant par des crochets ``[]`` les éléments qui la composent :"
   ]
  },
  {
   "cell_type": "code",
   "execution_count": null,
   "metadata": {},
   "outputs": [],
   "source": [
    "L = ['egg', 'spam', 'spam', 'spam', 'bacon']\n",
    "print(L, 'est de type', type(L))"
   ]
  },
  {
   "cell_type": "markdown",
   "metadata": {
    "slideshow": {
     "slide_type": "subslide"
    }
   },
   "source": [
    "Une liste peut contenir n'importe quel type d'objets."
   ]
  },
  {
   "cell_type": "code",
   "execution_count": null,
   "metadata": {},
   "outputs": [],
   "source": [
    "L0 = [1, 2]\n",
    "L2 = [None, True, False, 0, 1, 2**64, 3.14, '', 0+1j, 'abc']\n",
    "L1 = []\n",
    "L3 = [[1, 'azerty'], L0]\n",
    "print(L0, L1)\n",
    "print(L2)\n",
    "print(L3)"
   ]
  },
  {
   "cell_type": "markdown",
   "metadata": {
    "slideshow": {
     "slide_type": "subslide"
    }
   },
   "source": [
    "On peut utiliser la fonction [``list()``](https://docs.python.org/3/library/functions.html#func-list) pour créer une liste a partir d'autres séquences ou objets."
   ]
  },
  {
   "cell_type": "code",
   "execution_count": null,
   "metadata": {},
   "outputs": [],
   "source": [
    "a = list()\n",
    "b = list('bzzzzzt')\n",
    "print(a)\n",
    "print(b)"
   ]
  },
  {
   "cell_type": "markdown",
   "metadata": {
    "slideshow": {
     "slide_type": "fragment"
    }
   },
   "source": [
    "On accède aux éléments d'une liste grâce à un indice. Le premier élément est **indicé 0.**"
   ]
  },
  {
   "cell_type": "code",
   "execution_count": null,
   "metadata": {},
   "outputs": [],
   "source": [
    "print(L[0])\n",
    "print(L[4])"
   ]
  },
  {
   "cell_type": "markdown",
   "metadata": {
    "slideshow": {
     "slide_type": "fragment"
    }
   },
   "source": [
    "Un dépassement d'indice produit une erreur :"
   ]
  },
  {
   "cell_type": "code",
   "execution_count": null,
   "metadata": {},
   "outputs": [],
   "source": [
    "# Cette cellule génère une erreur\n",
    "print(L[10])"
   ]
  },
  {
   "cell_type": "markdown",
   "metadata": {
    "slideshow": {
     "slide_type": "subslide"
    }
   },
   "source": [
    "Les listes sont dites *muables* : on peut modifier la séquence de ses éléments."
   ]
  },
  {
   "cell_type": "markdown",
   "metadata": {
    "slideshow": {
     "slide_type": "fragment"
    }
   },
   "source": [
    "Je remplace le deuxième élément :"
   ]
  },
  {
   "cell_type": "code",
   "execution_count": null,
   "metadata": {},
   "outputs": [],
   "source": [
    "L[1] = 'tomatoes'\n",
    "print(L)\n",
    "L[3] = 9\n",
    "print(L)"
   ]
  },
  {
   "cell_type": "markdown",
   "metadata": {
    "slideshow": {
     "slide_type": "subslide"
    }
   },
   "source": [
    "#### Méthodes associées aux listes\n",
    "\n",
    "##### Méthodes ne modifiant pas la liste\n",
    "\n",
    "- La longueur d'une liste est donnée par fonction [`len()`](https://docs.python.org/3/library/functions.html#len)\n",
    "- `L.index(elem)` renvoie l'indice de l'élément `elem` (le 1er rencontré)\n",
    "\n",
    "##### Méthodes modifiant la liste\n",
    "\n",
    "- `L.append()` ajoute un élément à la fin\n",
    "- `L.pop()` retourne le dernier élément et le retire de la liste\n",
    "- `L.sort()` trie\n",
    "- `L.reverse()` inverse l'ordre\n",
    "\n",
    "Plus d'infos dans la [doc officielle](https://docs.python.org/3/library/stdtypes.html#typesseq-mutable)."
   ]
  },
  {
   "cell_type": "markdown",
   "metadata": {
    "slideshow": {
     "slide_type": "subslide"
    }
   },
   "source": [
    "#### Exemples"
   ]
  },
  {
   "cell_type": "code",
   "execution_count": null,
   "metadata": {},
   "outputs": [],
   "source": [
    "L = ['egg', 'spam', 'spam', 'spam', 'bacon']\n",
    "print('len() renvoie:', len(L))\n",
    "L.append('spam') # Ne renvoie pas de valeur\n",
    "print('Après append():', L)"
   ]
  },
  {
   "cell_type": "code",
   "execution_count": null,
   "metadata": {},
   "outputs": [],
   "source": [
    "print('pop() renvoie:', L.pop())\n",
    "print('Après pop():', L)"
   ]
  },
  {
   "cell_type": "code",
   "execution_count": null,
   "metadata": {},
   "outputs": [],
   "source": [
    "L.reverse() # Ne renvoie pas de valeur\n",
    "print('Après reverse():', L)"
   ]
  },
  {
   "cell_type": "code",
   "execution_count": null,
   "metadata": {},
   "outputs": [],
   "source": [
    "print('index() renvoie:', L.index('egg'))"
   ]
  },
  {
   "cell_type": "code",
   "execution_count": null,
   "metadata": {},
   "outputs": [],
   "source": [
    "L.remove('spam') # Ne renvoie pas de valeur\n",
    "print('Après remove:', L)"
   ]
  },
  {
   "cell_type": "markdown",
   "metadata": {
    "slideshow": {
     "slide_type": "subslide"
    }
   },
   "source": [
    "> Dans les exemples précédents, remarquez la syntaxe qui permet d'appliquer une méthode à un objet :\n",
    "> ```python\n",
    "> objet.methode()\n",
    "> ```\n",
    "> Ici, `.methode()` est une fonction propre au type de `objet`.\n",
    "> Si `.methode()` existe pour un autre type, elle n'a pas forcément le même comportement.\n",
    "> Nous verrons plus en détail cette mécanique dans la section dédiée à la programmation objet."
   ]
  },
  {
   "cell_type": "markdown",
   "metadata": {
    "slideshow": {
     "slide_type": "subslide"
    }
   },
   "source": [
    "Pour obtenir la liste des méthodes associées aux listes, on peut utiliser la fonction interne [`help()`](https://docs.python.org/3/library/functions.html#help) :"
   ]
  },
  {
   "cell_type": "code",
   "execution_count": null,
   "metadata": {},
   "outputs": [],
   "source": [
    "help(list) # ou aussi help([])"
   ]
  },
  {
   "cell_type": "markdown",
   "metadata": {
    "slideshow": {
     "slide_type": "subslide"
    }
   },
   "source": [
    "On peut créer facilement des listes répétitives grâce a l'opération de multiplication."
   ]
  },
  {
   "cell_type": "code",
   "execution_count": null,
   "metadata": {},
   "outputs": [],
   "source": [
    "a = ['a', 1] * 5\n",
    "print(a)"
   ]
  },
  {
   "cell_type": "markdown",
   "metadata": {},
   "source": [
    "Mais on ne peut pas 'diviser' une liste."
   ]
  },
  {
   "cell_type": "code",
   "execution_count": null,
   "metadata": {},
   "outputs": [],
   "source": [
    "# Cette cellule génère une erreur\n",
    "a = [1, 2, 3, 4]\n",
    "print(a / 2)"
   ]
  },
  {
   "cell_type": "markdown",
   "metadata": {
    "slideshow": {
     "slide_type": "subslide"
    }
   },
   "source": [
    "> **Exercice :** Manipulez la liste ``L`` ci-dessous avec les méthodes associées aux listes."
   ]
  },
  {
   "cell_type": "code",
   "execution_count": null,
   "metadata": {},
   "outputs": [],
   "source": [
    "L = ['egg', 'spam', 'spam', 'spam', 'bacon']\n",
    "# Votre code ci-dessous"
   ]
  },
  {
   "cell_type": "markdown",
   "metadata": {},
   "source": [
    "Vous trouverez la documentation complète sur les listes [ici](https://docs.python.org/3/library/stdtypes.html#mutable-sequence-types)."
   ]
  },
  {
   "cell_type": "markdown",
   "metadata": {
    "slideshow": {
     "slide_type": "slide"
    }
   },
   "source": [
    "### Tuples\n",
    "\n",
    "Les Tuples (ou n-uplets en Français) sont des séquences *immuables* :\n",
    "on ne peut pas les modifier après leur création.\n",
    "\n",
    "On les initialise ainsi :"
   ]
  },
  {
   "cell_type": "code",
   "execution_count": null,
   "metadata": {},
   "outputs": [],
   "source": [
    "T = ('a', 'b', 'c')\n",
    "print(T, 'est de type', type(T))\n",
    "T = 'a', 'b', 'c'  # une autre façon, en ommettant les parenthèses\n",
    "print(T, 'est de type', type(T))\n",
    "T = tuple(['a', 'b', 'c'])  # à partir d'une liste\n",
    "print(T, 'est de type', type(T))\n",
    "T = ('a')  # ceci n'est pas un tuple\n",
    "print(T, 'est de type', type(T))\n",
    "T = ('a',)  # Syntaxe pour initialiser un tuple contenant un seul élément\n",
    "print(T, 'est de type', type(T))\n",
    "T = 'a',  # Syntaxe alternative pour initialiser un tuple contenant un seul élément. Préférez celle avec parenthèses.\n",
    "print(T, 'est de type', type(T))"
   ]
  },
  {
   "cell_type": "markdown",
   "metadata": {
    "slideshow": {
     "slide_type": "subslide"
    }
   },
   "source": [
    "Une fois créée, cette séquence ne peut être modifiée."
   ]
  },
  {
   "cell_type": "code",
   "execution_count": null,
   "metadata": {},
   "outputs": [],
   "source": [
    "T = ('a', 'b', 'c')\n",
    "print(T[1]) # On peut utiliser un élément"
   ]
  },
  {
   "cell_type": "code",
   "execution_count": null,
   "metadata": {},
   "outputs": [],
   "source": [
    "# Cette cellule génère une erreur\n",
    "T[1] = 'z'  # mais pas le modifier"
   ]
  },
  {
   "cell_type": "markdown",
   "metadata": {
    "slideshow": {
     "slide_type": "subslide"
    }
   },
   "source": [
    "Intérêt des tuples par rapport aux listes :\n",
    "- plus rapide à parcourir que les listes\n",
    "- immuables donc \"protégés\"\n",
    "- peuvent être utilisés comme clé de dictionnaires (cf. plus loin)"
   ]
  },
  {
   "cell_type": "markdown",
   "metadata": {},
   "source": [
    "On peut créer des tuples a partir d'autres séquences ou objets grâce à la fonction [``tuple()``](https://docs.python.org/3/library/functions.html#func-tuple)."
   ]
  },
  {
   "cell_type": "code",
   "execution_count": null,
   "metadata": {},
   "outputs": [],
   "source": [
    "a = [1, 2, 3, 'toto']\n",
    "print(type(a), a)\n",
    "b = tuple(a)\n",
    "print(type(b), b)\n",
    "a = 'azerty'\n",
    "print(type(a), a)\n",
    "b = tuple(a)\n",
    "print(type(b), b)"
   ]
  },
  {
   "cell_type": "markdown",
   "metadata": {
    "slideshow": {
     "slide_type": "subslide"
    }
   },
   "source": [
    "#### Manipulation des tuples\n",
    "\n",
    "Construire d'autres tuples par concaténation et multiplication"
   ]
  },
  {
   "cell_type": "code",
   "execution_count": null,
   "metadata": {},
   "outputs": [],
   "source": [
    "T1 = 'a', 'b', 'c'\n",
    "print('T1 =', T1)\n",
    "T2 = 'd', 'e'\n",
    "print('T2 =', T2)\n",
    "print('T1 + T2 =', T1 + T2)\n",
    "print('T2 * 3 =', T2 * 3)"
   ]
  },
  {
   "cell_type": "markdown",
   "metadata": {
    "slideshow": {
     "slide_type": "subslide"
    }
   },
   "source": [
    "### Types muables et types immuables\n",
    "\n",
    "Avant d'aller plus loin dans la revue des types, il est important de comprendre le mécanisme d'affectation en fonction du caractère muable ou immuable de l'objet."
   ]
  },
  {
   "cell_type": "markdown",
   "metadata": {
    "slideshow": {
     "slide_type": "subslide"
    }
   },
   "source": [
    "#### Cas d'un objet muable\n",
    "\n",
    "- Deux noms de variables différents peuvent référencer le même objet\n",
    "- Si cet objet est muable, les modifications faites par l'intermédiaire d'une des variables sont visibles par toutes les autres."
   ]
  },
  {
   "cell_type": "code",
   "execution_count": null,
   "metadata": {},
   "outputs": [],
   "source": [
    "a = ['spam', 'egg']  # on initialise la variable a\n",
    "b = a                # b référence le même objet que a\n"
   ]
  },
  {
   "cell_type": "markdown",
   "metadata": {
    "slideshow": {
     "slide_type": "subslide"
    }
   },
   "source": [
    "`a` et `b` possèdent la même référence :"
   ]
  },
  {
   "cell_type": "code",
   "execution_count": null,
   "metadata": {},
   "outputs": [],
   "source": [
    "print(id(a))\n",
    "print(id(b))"
   ]
  },
  {
   "cell_type": "markdown",
   "metadata": {},
   "source": [
    "`a` et `b` contiennent la même donnée :"
   ]
  },
  {
   "cell_type": "code",
   "execution_count": null,
   "metadata": {},
   "outputs": [],
   "source": [
    "print(a)\n",
    "print(b)"
   ]
  },
  {
   "cell_type": "markdown",
   "metadata": {
    "slideshow": {
     "slide_type": "subslide"
    }
   },
   "source": [
    "Si on modifie la donnée de `a`, la donnée de `b` est aussi modifiée !"
   ]
  },
  {
   "cell_type": "code",
   "execution_count": null,
   "metadata": {},
   "outputs": [],
   "source": [
    "a.append('bacon')\n",
    "print(a)\n",
    "print(b)"
   ]
  },
  {
   "cell_type": "markdown",
   "metadata": {
    "slideshow": {
     "slide_type": "subslide"
    }
   },
   "source": [
    "#### Cas d'un objet immuable\n"
   ]
  },
  {
   "cell_type": "code",
   "execution_count": null,
   "metadata": {},
   "outputs": [],
   "source": [
    "t = 'spam', 'egg'\n",
    "u = t\n",
    "print(id(t))\n",
    "print(id(u))"
   ]
  },
  {
   "cell_type": "markdown",
   "metadata": {},
   "source": [
    "`t` et `u` sont deux variables qui référencent le même objet `tuple` donc leur donnée ne peut être modifiée.\n",
    "Tout ce qu'on peut faire, c'est affecter une nouvelle valeur :"
   ]
  },
  {
   "cell_type": "code",
   "execution_count": null,
   "metadata": {},
   "outputs": [],
   "source": [
    "t = 'bacon', 'egg'"
   ]
  },
  {
   "cell_type": "markdown",
   "metadata": {
    "slideshow": {
     "slide_type": "subslide"
    }
   },
   "source": [
    "Dans ce cas, `t` référence un nouvel objet alors que `u` référence toujours l'objet initial :"
   ]
  },
  {
   "cell_type": "code",
   "execution_count": null,
   "metadata": {},
   "outputs": [],
   "source": [
    "print(id(t))\n",
    "print(id(u))"
   ]
  },
  {
   "cell_type": "markdown",
   "metadata": {},
   "source": [
    "Et bien sûr leurs données sont différentes :"
   ]
  },
  {
   "cell_type": "code",
   "execution_count": null,
   "metadata": {},
   "outputs": [],
   "source": [
    "print(t)\n",
    "print(u)"
   ]
  },
  {
   "cell_type": "markdown",
   "metadata": {
    "slideshow": {
     "slide_type": "-"
    }
   },
   "source": [
    "> **Exercice :** analyser ce qu'il se passe dans cette série d'instructions avec [Python Tutor](http://pythontutor.com/visualize.html#code=a%20%3D%20%5B'spam',%20'egg'%5D%0Ab%20%3D%20a%0Aa.append%28'bacon'%29%0At%20%3D%20'spam',%20'egg'%0Au%20%3D%20t%0At%20%3D%20'bacon',%20'egg'&cumulative=false&curInstr=0&heapPrimitives=nevernest&mode=display&origin=opt-frontend.js&py=3&rawInputLstJSON=%5B%5D&textReferences=false) ."
   ]
  },
  {
   "cell_type": "markdown",
   "metadata": {
    "slideshow": {
     "slide_type": "subslide"
    }
   },
   "source": [
    "#### Un peu plus loin...\n",
    "\n",
    "Bien que sa séquence soit immuable, si un `tuple` est constitué d'éléments muables, alors ces éléments-là peuvent être modifiés.\n",
    "\n",
    "Illustration avec un `tuple` dont un des éléments est une `list` :"
   ]
  },
  {
   "cell_type": "code",
   "execution_count": null,
   "metadata": {},
   "outputs": [],
   "source": [
    "T = ('a', ['b', 'c']) # le deuxième élément est une liste donc il est mutable\n",
    "print('T =', T)\n",
    "L = T[1]\n",
    "print('L =', L)\n",
    "L[0] = 'e'\n",
    "print('L =', L)\n",
    "print('T =', T)"
   ]
  },
  {
   "cell_type": "code",
   "execution_count": null,
   "metadata": {
    "slideshow": {
     "slide_type": "subslide"
    }
   },
   "outputs": [],
   "source": [
    "# Ici on fait exactement la même chose...\n",
    "T = ('a', ['b', 'c'])\n",
    "print('T =', T)\n",
    "T[1][0] = 'z'\n",
    "print('T après =', T)"
   ]
  },
  {
   "cell_type": "code",
   "execution_count": null,
   "metadata": {},
   "outputs": [],
   "source": [
    "# Cette cellule génère une erreur\n",
    "T[0] = 'A'  # Ici, on essaye de modifier le tuple lui même..."
   ]
  },
  {
   "cell_type": "markdown",
   "metadata": {
    "slideshow": {
     "slide_type": "-"
    }
   },
   "source": [
    "> **Exercice :** analyser ce qu'il se passe dans cette série d'instructions avec [Python Tutor](http://pythontutor.com/visualize.html#code=T%20%3D%20%28'a',%20%5B'b',%20'c'%5D%29%20%23%20le%20deuxi%C3%A8me%20%C3%A9l%C3%A9ment%20est%20une%20liste%20donc%20il%20est%20mutable%0AL%20%3D%20T%5B1%5D%0AL%5B0%5D%20%3D%20'e'%0A%0AT%20%3D%20%28'a',%20%5B'b',%20'c'%5D%29%0AT%5B1%5D%5B0%5D%20%3D%20'z'%0A%0AT%5B0%5D%20%3D%20'A'&cumulative=false&curInstr=0&heapPrimitives=nevernest&mode=display&origin=opt-frontend.js&py=3&rawInputLstJSON=%5B%5D&textReferences=false) ."
   ]
  },
  {
   "cell_type": "markdown",
   "metadata": {
    "slideshow": {
     "slide_type": "slide"
    }
   },
   "source": [
    "### Le slicing de séquences en Python\n",
    "\n",
    "- Cela consiste à extraire une sous-séquence à partir d'une séquence.\n",
    "- Le slicing fonctionne de manière similaire aux intervalles mathématiques : `[début:fin[`\n",
    "- La borne de fin ne fait pas partie de l'intervalle sélectionné.\n",
    "- La syntaxe générale est `L[i:j:k]`, où :\n",
    "    - `i` = indice de début\n",
    "    - `j` = indice de fin, le premier élément qui n'est pas sélectionné\n",
    "    - `k` = le \"pas\" ou intervalle (s'il est omis alors il vaut `1`)\n",
    "- La sous-liste sera donc composée de tous les éléments de l’indice `i` jusqu’à l’indice `j-1`, par pas de `k`.\n",
    "- La sous-liste est un nouvel objet."
   ]
  },
  {
   "cell_type": "markdown",
   "metadata": {
    "slideshow": {
     "slide_type": "subslide"
    }
   },
   "source": [
    "Dans le sens normal (le pas `k` est positif)\n",
    "\n",
    "- Si `i` est omis alors il vaut `0`\n",
    "- Si `j` est omis alors il vaut `len(L)`\n",
    "\n",
    "Dans le sens inverse (le pas `k` est négatif)\n",
    "\n",
    "- Si `i` est omis alors il vaut `-1`\n",
    "- Si `j` est omis alors il vaut `-len(L)-1`"
   ]
  },
  {
   "cell_type": "markdown",
   "metadata": {
    "slideshow": {
     "slide_type": "subslide"
    }
   },
   "source": [
    "Illustrons ça en créant une liste à partir d'une chaîne de caractères.\n",
    "\n",
    "La fonction [`split()`](https://docs.python.org/3/library/stdtypes.html#str.split) découpe une chaîne de caractères en morceaux, par défaut en 'mots'."
   ]
  },
  {
   "cell_type": "code",
   "execution_count": null,
   "metadata": {
    "scrolled": false
   },
   "outputs": [],
   "source": [
    "L = 'Dans le Python tout est bon'.split()\n",
    "print(L)"
   ]
  },
  {
   "cell_type": "markdown",
   "metadata": {
    "slideshow": {
     "slide_type": "fragment"
    }
   },
   "source": [
    "Pour commencer, on extrait de la liste ``L`` un nouvel objet liste qui contient tous les éléments de ``L`` <=> copie de liste"
   ]
  },
  {
   "cell_type": "code",
   "execution_count": null,
   "metadata": {},
   "outputs": [],
   "source": [
    "print(L[0:len(L):1]) # Cette notation est inutilement lourde car :\n",
    "print(L[::])         # i = 0, j=len(L) et k=1 donc i, j et k peuvent être omis\n",
    "print(L[:])          # on peut même ommettre le 2ème \":\""
   ]
  },
  {
   "cell_type": "markdown",
   "metadata": {
    "slideshow": {
     "slide_type": "subslide"
    }
   },
   "source": [
    "On extrait une sous-liste qui ne contient que les 3 premiers éléments :"
   ]
  },
  {
   "cell_type": "code",
   "execution_count": null,
   "metadata": {},
   "outputs": [],
   "source": [
    "print(L[0:3:1])  # Notation complète\n",
    "print(L[:3:1])  # Le premier indice vaut i=0, donc on peut l'omettre\n",
    "print(L[:3])  # Le pas de slicing vaut 1, donc on peut l'omettre, ainsi que le \":\""
   ]
  },
  {
   "cell_type": "markdown",
   "metadata": {
    "slideshow": {
     "slide_type": "fragment"
    }
   },
   "source": [
    "J'extrais une sous-liste qui exclut les trois premiers éléments :"
   ]
  },
  {
   "cell_type": "code",
   "execution_count": null,
   "metadata": {},
   "outputs": [],
   "source": [
    "print(L[3:len(L):1])  # Cette notation est inutilement lourde car :\n",
    "print(L[3:])          # j et k peuvent être omis, ainsi que le \":\""
   ]
  },
  {
   "cell_type": "markdown",
   "metadata": {
    "slideshow": {
     "slide_type": "subslide"
    }
   },
   "source": [
    "Les indices peuvent être négatifs, ce qui permet traiter les derniers éléments :"
   ]
  },
  {
   "cell_type": "code",
   "execution_count": null,
   "metadata": {},
   "outputs": [],
   "source": [
    "# Je veux exclure le dernier élément :\n",
    "print(L[0:-1:1])  # Notation complète\n",
    "print(L[:-1:1])  # Le premier indice vaut i=0, donc on peut l'omettre\n",
    "print(L[:-1])  # Le pas de slicing vaut 1, donc on peut l'omettre"
   ]
  },
  {
   "cell_type": "markdown",
   "metadata": {},
   "source": [
    "On ne garde que les deux derniers éléments"
   ]
  },
  {
   "cell_type": "code",
   "execution_count": null,
   "metadata": {},
   "outputs": [],
   "source": [
    "print(L[-2:])"
   ]
  },
  {
   "cell_type": "markdown",
   "metadata": {
    "slideshow": {
     "slide_type": "subslide"
    }
   },
   "source": [
    "#### Note\n",
    "\n",
    "``L[1]`` n'est pas équivalent à ``L[1:2]``, ni à ``L[1:]``, ni à ``L[:1]``.\n",
    "\n",
    "Illustration :"
   ]
  },
  {
   "cell_type": "code",
   "execution_count": null,
   "metadata": {},
   "outputs": [],
   "source": [
    "a = L[1]\n",
    "print(type(a), a) # Je récupère le deuxième élément de la liste\n",
    "a = L[1:2]\n",
    "print(type(a), a) # Je récupère une liste composée du seul élément L[1]\n",
    "a = L[1:]\n",
    "print(type(a), a) # Je récupère une liste\n",
    "a = L[:1]\n",
    "print(type(a), a) # Je récupère une liste"
   ]
  },
  {
   "cell_type": "markdown",
   "metadata": {
    "slideshow": {
     "slide_type": "subslide"
    }
   },
   "source": [
    "> **Exercice :** Retourner une liste composée des éléments de ``L`` *en ordre inverse* **avec une opération de slicing**. Toute utilisation de [``[].reverse()``](https://docs.python.org/3/library/stdtypes.html#mutable-sequence-types) ou [``reversed()``](https://docs.python.org/3/library/functions.html#reversed) est interdite."
   ]
  },
  {
   "cell_type": "code",
   "execution_count": null,
   "metadata": {
    "solution2": "hidden",
    "solution2_first": true
   },
   "outputs": [],
   "source": [
    "L = 'Dans le Python tout est bon'.split()\n",
    "print(L)\n",
    "# <- votre code ici"
   ]
  },
  {
   "cell_type": "code",
   "execution_count": null,
   "metadata": {
    "solution2": "hidden"
   },
   "outputs": [],
   "source": [
    "# Solution\n",
    "\n",
    "L = \"Dans le Python, tout est bon.\".split()\n",
    "\n",
    "# La solution simple et élégante :\n",
    "print(L[::-1])\n",
    "\n",
    "# Explications:\n",
    "# Pas de bornes => valeurs par défaut => on prend tout\n",
    "# Le pas est de -1 => à l'envers\n",
    "\n",
    "# La version explicite :\n",
    "print(L[-1:-len(L)-1:-1])\n",
    "\n",
    "# Explications :\n",
    "# On commence à la dernière place\n",
    "# On s'arrête à la première, exprimée en indices négatifs\n",
    "# Le pas est de -1 => à l'envers\n",
    "\n",
    "# Ne pas oublier que les indices vont:\n",
    "# dans le sens normal : de 0 à 5\n",
    "# dans le sens contraire : de -1 à -6\n",
    "\n",
    "# Ne pas oublier que les bornes d'un slice qui prend tout les éléments vont:\n",
    "# dans le sens normal : de 0 à 6\n",
    "# dans le sens contraire : de -1 à -7\n",
    "\n",
    "# La solution \"optimale\" : elle utilise un iterateur et donc\n",
    "# ne consomme aucune ressource tant qu'on ne l'utilise pas\n",
    "print(list(reversed(L)))\n",
    "\n",
    "# Pour le fun, voici une version fonctionelle récursive\n",
    "def rev(alist):\n",
    "    if not alist:\n",
    "        return []\n",
    "    return alist[-1:] + rev(alist[:-1])\n",
    "\n",
    "print(rev(L))"
   ]
  },
  {
   "cell_type": "markdown",
   "metadata": {
    "slideshow": {
     "slide_type": "subslide"
    }
   },
   "source": [
    "Le slicing peut être utilisé pour **modifier** une séquence **muable** grâce à l'opération d'assignation."
   ]
  },
  {
   "cell_type": "code",
   "execution_count": null,
   "metadata": {},
   "outputs": [],
   "source": [
    "L = 'Dans le Python tout est bon'.split()\n",
    "print(L)\n",
    "L[2:4] = ['nouvelles', 'valeurs', 'et encore plus...', 1, 2, 3]\n",
    "print(L)"
   ]
  },
  {
   "cell_type": "markdown",
   "metadata": {
    "slideshow": {
     "slide_type": "subslide"
    }
   },
   "source": [
    "Le slicing peut être utilisé sur des chaînes de caractères."
   ]
  },
  {
   "cell_type": "code",
   "execution_count": null,
   "metadata": {},
   "outputs": [],
   "source": [
    "alphabet = 'abcdefghijklmnopqrstuvwxyz'\n",
    "print(alphabet[:4], alphabet[-4:], alphabet[0:12:3])"
   ]
  },
  {
   "cell_type": "markdown",
   "metadata": {},
   "source": [
    "> **Exercice**:\n",
    "> 1. Découpez l'alphabet en deux parties égales\n",
    "> 2. Prenez une lettre sur deux"
   ]
  },
  {
   "cell_type": "code",
   "execution_count": null,
   "metadata": {
    "solution2": "hidden",
    "solution2_first": true
   },
   "outputs": [],
   "source": [
    "# Votre code ici"
   ]
  },
  {
   "cell_type": "code",
   "execution_count": null,
   "metadata": {
    "solution2": "hidden"
   },
   "outputs": [],
   "source": [
    "# Solution\n",
    "alphabet = \"abcdefghijklmnopqrstuvwxyz\"\n",
    "\n",
    "print(alphabet[:len(alphabet) // 2])\n",
    "print(alphabet[len(alphabet) // 2:])\n",
    "print(alphabet[::2])"
   ]
  },
  {
   "cell_type": "markdown",
   "metadata": {
    "slideshow": {
     "slide_type": "subslide"
    }
   },
   "source": [
    "## Chaînes de caractères, le retour\n",
    "\n",
    "Les chaînes de caractères sont des séquences immuables donc on les manipule comme telles."
   ]
  },
  {
   "cell_type": "code",
   "execution_count": null,
   "metadata": {},
   "outputs": [],
   "source": [
    "# Cette cellule génère une erreur\n",
    "non_mutable = 'abcdefgh'\n",
    "non_mutable[3] = 'D'"
   ]
  },
  {
   "cell_type": "markdown",
   "metadata": {},
   "source": [
    "Il faut construire une nouvelle chaîne de caractère. En concaténant des morceaux (slices) de la chaîne originale:"
   ]
  },
  {
   "cell_type": "code",
   "execution_count": null,
   "metadata": {},
   "outputs": [],
   "source": [
    "nouvelle_chaine = non_mutable[:3] + 'D' + non_mutable[4:]\n",
    "print(nouvelle_chaine)"
   ]
  },
  {
   "cell_type": "markdown",
   "metadata": {
    "slideshow": {
     "slide_type": "subslide"
    }
   },
   "source": [
    "Ou alors en utilisant une transformation en liste, puis a nouveau en chaîne:"
   ]
  },
  {
   "cell_type": "code",
   "execution_count": null,
   "metadata": {},
   "outputs": [],
   "source": [
    "a = list(non_mutable)\n",
    "a[3] = 'D'\n",
    "print(''.join(a))"
   ]
  },
  {
   "cell_type": "markdown",
   "metadata": {},
   "source": [
    "On peut savoir si une chaîne se trouve dans une autre"
   ]
  },
  {
   "cell_type": "code",
   "execution_count": null,
   "metadata": {},
   "outputs": [],
   "source": [
    "print('123' in 'azerty_123_uiop')\n",
    "print('AZE' in 'azerty_123_uiop')\n",
    "print('aze' in 'azerty_123_uiop')"
   ]
  },
  {
   "cell_type": "markdown",
   "metadata": {},
   "source": [
    "La longueur d'une chaîne s'obtient avec [``len()``](https://docs.python.org/3/library/functions.html#len)."
   ]
  },
  {
   "cell_type": "code",
   "execution_count": null,
   "metadata": {},
   "outputs": [],
   "source": [
    "print(len(non_mutable))"
   ]
  },
  {
   "cell_type": "markdown",
   "metadata": {
    "slideshow": {
     "slide_type": "subslide"
    }
   },
   "source": [
    "> **Exercice**, dans la cellule ci-dessous:\n",
    "> 1. **Insérez** le caractère '#' au milieu de la chaîne donnée.\n",
    "> 2. Idem mais **coupez** la chaine en 3 parties, et insérez le caractère '@' entre chacune d'elles.\n",
    "> 3. **Insérez** le caractère '|' entre chaque caractère de la chaîne."
   ]
  },
  {
   "cell_type": "code",
   "execution_count": null,
   "metadata": {
    "solution2": "hidden",
    "solution2_first": true
   },
   "outputs": [],
   "source": [
    "chaine_donnee = 'azertyuioppoiuytreza'\n",
    "# Votre code ici"
   ]
  },
  {
   "cell_type": "code",
   "execution_count": null,
   "metadata": {
    "solution2": "hidden"
   },
   "outputs": [],
   "source": [
    "# Solution\n",
    "chaine_donnee = \"azertyuioppoiuytreza\"\n",
    "\n",
    "milieu = len(chaine_donnee) // 2\n",
    "print(chaine_donnee[:milieu] + '#' + chaine_donnee[milieu:])\n",
    "\n",
    "intervale = len(chaine_donnee) // 3\n",
    "print(chaine_donnee[:intervale] + '@' + chaine_donnee[intervale:2 * intervale + 1] + '@' + chaine_donnee[2 * intervale + 1:])\n",
    "\n",
    "print('|'.join(chaine_donnee))"
   ]
  },
  {
   "cell_type": "markdown",
   "metadata": {
    "slideshow": {
     "slide_type": "slide"
    }
   },
   "source": [
    "## Les dictionnaires\n",
    "\n",
    "Les dictionnaires ou listes associatives sont des conteneurs où les objets ne sont **pas** ordonnés ni accessibles par un indice mais sont associés à une clé d'accès.\n",
    "\n",
    "L'accès aux éléments se fait comme pour les listes ou tuples, avec les `[]`.\n",
    "\n",
    "```python\n",
    "dico = {cle1: valeur1, cle2: valeur2, ...}\n",
    "```\n",
    "\n",
    "Les clés peuvent avoir n'importe qu'elle valeur à condition qu'elles soient de type immuable : les listes ne peuvent pas servir de clés alors que les chaînes de caractères et les tuples le peuvent.\n",
    "\n",
    "Dans `dico`, on accède à `valeur1` avec la syntaxe `dico[cle1]`."
   ]
  },
  {
   "cell_type": "markdown",
   "metadata": {
    "slideshow": {
     "slide_type": "subslide"
    }
   },
   "source": [
    "### Un exemple"
   ]
  },
  {
   "cell_type": "code",
   "execution_count": null,
   "metadata": {},
   "outputs": [],
   "source": [
    "dic_animaux = {'ane': True, 'arbre': False, 'chat': True, 'lune': False, 'humain': True}\n",
    "cle = 'chat'\n",
    "valeur = dic_animaux[cle]\n",
    "print(valeur)\n",
    "print('{} est un animal: {}'.format(cle, valeur))\n",
    "# Ou encore\n",
    "print('{} est un animal: {}'.format('chat', dic_animaux['chat']))"
   ]
  },
  {
   "cell_type": "markdown",
   "metadata": {},
   "source": [
    "> **Exercice** : essayez de savoir si un arbre est un animal"
   ]
  },
  {
   "cell_type": "code",
   "execution_count": null,
   "metadata": {
    "solution2": "hidden",
    "solution2_first": true
   },
   "outputs": [],
   "source": [
    "# Votre code ici"
   ]
  },
  {
   "cell_type": "code",
   "execution_count": null,
   "metadata": {
    "solution2": "hidden"
   },
   "outputs": [],
   "source": [
    "# Solution\n",
    "print(\"l'arbre est un animal:\", dic_animaux['arbre'])"
   ]
  },
  {
   "cell_type": "markdown",
   "metadata": {
    "slideshow": {
     "slide_type": "subslide"
    }
   },
   "source": [
    "Les différentes manières de créer des dictionnaires, en particulier grâce à la fonction interne [`dict()`](https://docs.python.org/3/library/functions.html#func-dict) :"
   ]
  },
  {
   "cell_type": "code",
   "execution_count": null,
   "metadata": {},
   "outputs": [],
   "source": [
    "a = {'un': 1, 'deux': 2, 'trois': 3}               # Les accolades comme syntaxe\n",
    "b = dict(un=1, deux=2, trois=3)                    # La méthode dict()\n",
    "c = dict(zip(['un', 'deux', 'trois'], [1, 2, 3]))  # On \"zippe\" deux listes\n",
    "d = dict([('deux', 2), ('un', 1), ('trois', 3)])   # On transforme une liste de 2-tuples\n",
    "e = dict({'trois': 3, 'un': 1, 'deux': 2})\n",
    "a == b == c == d == e"
   ]
  },
  {
   "cell_type": "markdown",
   "metadata": {
    "slideshow": {
     "slide_type": "subslide"
    }
   },
   "source": [
    "Accéder à un élément qui n'est pas dans le dictionnaire génère une erreur. Il existe la méthode [`{}.get()`](https://docs.python.org/3/library/stdtypes.html#dict.get) ou [l'opérateur `in`](https://docs.python.org/3/library/stdtypes.html#mapping-types-dict) qui permettent d'éviter ce problème."
   ]
  },
  {
   "cell_type": "code",
   "execution_count": null,
   "metadata": {},
   "outputs": [],
   "source": [
    "# Cette cellule génère une erreur\n",
    "err = a['quatre']"
   ]
  },
  {
   "cell_type": "markdown",
   "metadata": {},
   "source": [
    "Ici on utilise ``.get()`` et cela ne remonte pas d'erreur."
   ]
  },
  {
   "cell_type": "code",
   "execution_count": null,
   "metadata": {},
   "outputs": [],
   "source": [
    "print(a.get('quatre'))    # La valeur par défaut est 'None' lorsque .get() ne trouve pas l'élément\n",
    "print(a.get('quatre', 5)) # On peut spécifier une autre valeur par défaut"
   ]
  },
  {
   "cell_type": "markdown",
   "metadata": {
    "slideshow": {
     "slide_type": "subslide"
    }
   },
   "source": [
    "### Un autre exemple"
   ]
  },
  {
   "cell_type": "code",
   "execution_count": null,
   "metadata": {},
   "outputs": [],
   "source": [
    "tup_mois = ('jan', 'feb', 'mar', 'apr', 'may', 'jun', 'jul', 'aug', 'sep', 'oct', 'nov', 'dec')\n",
    "tup_long = (31, (28, 29), 31, 30, 31, 30, 31, 31, 30, 31, 30, 31)\n",
    "dic_mois = dict(zip(tup_mois, tup_long))\n",
    "mois_naissance = 'jun'\n",
    "print('Il y a {:d} jours dans votre mois de naissance'.format(dic_mois[mois_naissance]))"
   ]
  },
  {
   "cell_type": "markdown",
   "metadata": {
    "slideshow": {
     "slide_type": "-"
    },
    "solution2": "hidden",
    "solution2_first": true
   },
   "source": [
    "> **Exercice**:\n",
    ">\n",
    "> 1. Modifiez la cellule précédente pour y changer mois_naissance (les 3 premiers caractères de votre mois de naissance, en anglais). Ré-exécutez la cellule et vérifiez la réponse.\n",
    "> 2. Un problème s'est glissé dans la cellule, lequel ?\n",
    "> 3. Corrigez-le. (il y a plusieur manières de faire)\n",
    "> 4. Les noms de mois raccourcis sont en anglais et non en français, pourquoi ?\n",
    "> 5. Utilisez `input('En quel mois êtes-vous né(e) ? ')` pour initialiser `mois_naissance` et constatez le gain de qualité en IHM (Interface Homme Machine, ergonomie)."
   ]
  },
  {
   "cell_type": "code",
   "execution_count": null,
   "metadata": {
    "solution2": "hidden"
   },
   "outputs": [],
   "source": [
    "# Solution\n",
    "\n",
    "tup_mois = ('jan', 'feb', 'mar', 'apr', 'mai', 'jun', 'jul', 'aug', 'sep', 'oct', 'nov', 'dec')\n",
    "tup_long = (31, (28, 29), 31, 30, 31, 30, 31, 31, 30, 31, 30, 31)\n",
    "\n",
    "dic_mois = dict(zip(tup_mois, tup_long))\n",
    "\n",
    "print('Quel est votre mois de naissance. Choisissez parmi :', tup_mois)\n",
    "mois_naissance = input('? ')\n",
    "if mois_naissance in tup_mois:\n",
    "    print('Il y a {} jours dans votre mois de naissance'.format(dic_mois[mois_naissance]))\n",
    "else:\n",
    "    print('Mauvais choix...')"
   ]
  },
  {
   "cell_type": "markdown",
   "metadata": {
    "slideshow": {
     "slide_type": "subslide"
    }
   },
   "source": [
    "Les dictionnaires sont muables."
   ]
  },
  {
   "cell_type": "code",
   "execution_count": null,
   "metadata": {},
   "outputs": [],
   "source": [
    "ages = {'albert': 62, 'bob': 34, 'charlie': 1, 'daphne': 67}\n",
    "print(ages)\n",
    "# C'est l'anniversaire de charlie, il a un an de plus...\n",
    "ages['charlie'] += 1\n",
    "print(ages)\n",
    "print('Albert a {} ans.'.format(ages['albert']))\n",
    "# Bob est parti, enlevons-le\n",
    "del(ages['bob'])\n",
    "print(ages)"
   ]
  },
  {
   "cell_type": "markdown",
   "metadata": {
    "slideshow": {
     "slide_type": "subslide"
    }
   },
   "source": [
    "- Savoir si une clé est présente dans un dictionnaire est une opération rapide. On utilise, comme pour les séquences, l'opérateur `in`.\n",
    "- La fonction interne `len()` est utilisable pour savoir combien d'objets sont référencés dans le dictionnaire."
   ]
  },
  {
   "cell_type": "code",
   "execution_count": null,
   "metadata": {},
   "outputs": [],
   "source": [
    "ages = {'albert': 62, 'bob': 34, 'charlie': 1, 'daphne': 67}\n",
    "print('Charlie est dedans ?', 'charlie' in ages)\n",
    "print('Zoé est dedans ?', 'zoé' in ages)\n",
    "print('Bob est dedans ?', 'bob' in ages)\n",
    "print('Il y a {:d} personnes.'.format(len(ages)))\n",
    "# Bob est parti, enlevons-le\n",
    "del(ages['bob'])\n",
    "print('Bob est dedans ?', 'bob' in ages)\n",
    "print('Il y a {:d} personnes.'.format(len(ages)))"
   ]
  },
  {
   "cell_type": "markdown",
   "metadata": {},
   "source": [
    "On peut itérer sur les clés ou les objets référencés, ou vider un dictionnaire, en comparer deux, etc.\n",
    "\n",
    "Pour plus d'informations sur les dictionnaires, voir [ici](https://docs.python.org/3/library/stdtypes.html#mapping-types-dict)."
   ]
  },
  {
   "cell_type": "markdown",
   "metadata": {
    "slideshow": {
     "slide_type": "subslide"
    }
   },
   "source": [
    "> **Exercice** :\n",
    ">\n",
    "> 1. Créez un dictionnaire qui va traduire des chiffres (de 0 à 9) écrits en toutes lettres entre deux langues.\n",
    ">    Par exemple :\n",
    ">    `trad_num['un']` $\\rightarrow$ `'one'`\n",
    "> 2. Modifiez ce dictionnaire, pour qu'il fonctionne dans les deux sens de traduction (Fr $\\rightarrow$ En et En $\\rightarrow$ Fr)\n",
    "> 3. Modifiez ce dictionnaire, pour qu'il fonctionne aussi avec les chiffres sous forme d'entiers\n",
    ">    Par exemple :\n",
    ">    `trad_num[1]` $\\rightarrow$ `'un'`"
   ]
  },
  {
   "cell_type": "code",
   "execution_count": null,
   "metadata": {
    "slideshow": {
     "slide_type": "subslide"
    },
    "solution2": "hidden",
    "solution2_first": true
   },
   "outputs": [],
   "source": [
    "# Votre code ici"
   ]
  },
  {
   "cell_type": "code",
   "execution_count": null,
   "metadata": {
    "solution2": "hidden"
   },
   "outputs": [],
   "source": [
    "# Une solution concise :\n",
    "\n",
    "trad_num = {'un': 'one', 'deux': 'two', 'trois': 'three'}\n",
    "print(trad_num['deux'])  # On teste Fr -> En\n",
    "trad_num.update({valeur: cle for cle, valeur in trad_num.items()})\n",
    "print(trad_num)\n",
    "\n",
    "# Une autre solution :\n",
    "\n",
    "# Des tuples\n",
    "fr = 'un', 'deux', 'trois'\n",
    "en = 'one', 'two', 'three'\n",
    "num = 1, 2, 3\n",
    "\n",
    "# Des dictionnaires\n",
    "trad_fr_en = dict(zip(fr, en))\n",
    "trad_en_fr = dict(zip(en, fr))\n",
    "trad___num = dict(zip(num, fr))\n",
    "\n",
    "# Le dico qui fait rien\n",
    "trad = {}\n",
    "\n",
    "# Maintenant il peut tout faire\n",
    "trad.update(trad_fr_en)\n",
    "trad.update(trad_en_fr)\n",
    "trad.update(trad___num)\n",
    "\n",
    "# La preuve\n",
    "print(\"'un' \\t devient:\", trad['un'])\n",
    "print(\"'two' \\t devient:\", trad['two'])\n",
    "print(\"3 \\t devient:\", trad[3])\n"
   ]
  },
  {
   "cell_type": "markdown",
   "metadata": {
    "slideshow": {
     "slide_type": "slide"
    }
   },
   "source": [
    "## Les ensembles\n",
    "\n",
    "La fonction [`set()`](https://docs.python.org/3/library/functions.html#func-set) permet de créer  des ensembles.\n",
    "Les ensembles sont des conteneurs qui n'autorisent pas de duplication d'objets référencés, contrairement aux listes et tuples.\n",
    "\n",
    "On peut créer des ensembles de cette façon :\n",
    "\n",
    "```python\n",
    "ensemble = set(iterable)\n",
    "```\n",
    "Où `iterable` peut être n'importe quel objet qui supporte l'itération : liste, tuple, dictionnaire, un autre set (pour en faire une copie), vos propres objets itérables, etc...\n",
    "\n",
    "Tout comme pour les dictionnaires, l'opérateur `in` est efficace."
   ]
  },
  {
   "cell_type": "markdown",
   "metadata": {
    "slideshow": {
     "slide_type": "subslide"
    }
   },
   "source": [
    "### Exemples"
   ]
  },
  {
   "cell_type": "code",
   "execution_count": null,
   "metadata": {},
   "outputs": [],
   "source": [
    "list1 = [1, 1, 2]\n",
    "tupl1 = ('un', 'un', 'deux', 1, 3)\n",
    "\n",
    "b = set(list1)\n",
    "a = set(tupl1)\n",
    "\n",
    "print(a, b)\n",
    "\n",
    "print(\"La chaîne 'un' est elle dans l'ensemble ?\", 'un' in a)\n",
    "a.remove('un')\n",
    "print(\"La chaîne 'un' est-elle toujours dans l'ensemble ?\", 'un' in a)\n",
    "\n",
    "print(a, b)"
   ]
  },
  {
   "cell_type": "markdown",
   "metadata": {
    "slideshow": {
     "slide_type": "subslide"
    }
   },
   "source": [
    "Des opérations supplémentaires sont possibles sur des ensembles. Elles sont calquées sur les opérations mathématiques :\n",
    "\n",
    "- union\n",
    "- intersection\n",
    "- etc..."
   ]
  },
  {
   "cell_type": "code",
   "execution_count": null,
   "metadata": {},
   "outputs": [],
   "source": [
    "print('intersection :', a & b)\n",
    "print('union :', a | b)"
   ]
  },
  {
   "cell_type": "markdown",
   "metadata": {},
   "source": [
    "Pour plus d'informations sur les ensembles, voir [ici](https://docs.python.org/3/library/stdtypes.html#set-types-set-frozenset)"
   ]
  },
  {
   "cell_type": "markdown",
   "metadata": {
    "slideshow": {
     "slide_type": "slide"
    }
   },
   "source": [
    "## Fichiers\n",
    "\n",
    "### Ouverture\n",
    "\n",
    "L'instruction :\n",
    "\n",
    "```python\n",
    "f = open('interessant.txt', mode='r')\n",
    "```\n",
    "\n",
    "ouvre le fichier `interessant.txt` en mode lecture seule et le renvoie dans l'objet `f`.\n",
    "\n",
    "- On peut spécifier un chemin d'accès complet ou relatif au répertoire courant\n",
    "- Le caractère de séparation pour les répertoires peut être différent en fonction du système d'exploitation (`/` pour unix et `\\` pour windows), voir le module [`os.path`](https://docs.python.org/3/library/os.path.html) ou mieux la bibliothèque [`pathlib`](https://docs.python.org/3/library/pathlib.html)."
   ]
  },
  {
   "cell_type": "markdown",
   "metadata": {
    "slideshow": {
     "slide_type": "subslide"
    }
   },
   "source": [
    "#### Modes d'ouverture communs\n",
    "\n",
    "- `'r'` : lecture seule\n",
    "- `'w'` : écriture seule\n",
    "- `'a'` : ajout à partir de la fin du fichier\n",
    "\n",
    "**Note :** Avec `'w'` et `'a'`, le fichier est créé s'il n'existe pas.\n",
    "\n",
    "Pour plus d'informations sur les objets fichiers, voir [ici](https://docs.python.org/3/library/stdtypes.html#file-objects), pour la documentation de la fonction `open()`, voir [là](https://docs.python.org/3/library/functions.html#open)."
   ]
  },
  {
   "cell_type": "markdown",
   "metadata": {
    "slideshow": {
     "slide_type": "fragment"
    }
   },
   "source": [
    "### Fermeture\n",
    "\n",
    "On ferme le fichier ``f`` avec l'instruction :\n",
    "\n",
    "    f.close()"
   ]
  },
  {
   "cell_type": "markdown",
   "metadata": {
    "slideshow": {
     "slide_type": "subslide"
    }
   },
   "source": [
    "### Méthodes de lecture\n",
    "\n",
    "- ``f.read()`` : retourne tout le contenu de ``f`` sous la forme d’une chaîne de caractères."
   ]
  },
  {
   "cell_type": "code",
   "execution_count": null,
   "metadata": {
    "slideshow": {
     "slide_type": "-"
    }
   },
   "outputs": [],
   "source": [
    "from pathlib import Path  # Pour la compatibilité avec Windows\n",
    "f = open(Path('exos/interessant.txt'), mode='r')\n",
    "texte = f.read()\n",
    "print('\"texte\" est un objet de type', type(texte), 'de longueur', len(texte), 'caractères:')\n",
    "print(texte)\n",
    "print('Contenu en raw string:')\n",
    "print(repr(texte))\n",
    "f.close()"
   ]
  },
  {
   "cell_type": "markdown",
   "metadata": {
    "slideshow": {
     "slide_type": "subslide"
    }
   },
   "source": [
    "- ``f.readlines()`` : retourne toutes les lignes de ``f`` sous la forme d’une liste de chaînes de caractères."
   ]
  },
  {
   "cell_type": "code",
   "execution_count": null,
   "metadata": {},
   "outputs": [],
   "source": [
    "f = open('exos/interessant.txt', mode='r')\n",
    "lignes = f.readlines()\n",
    "print('\"lignes\" est un objet de type', type(lignes), 'contenant', len(lignes), 'éléments:')\n",
    "print(lignes)\n",
    "f.close()"
   ]
  },
  {
   "cell_type": "markdown",
   "metadata": {
    "slideshow": {
     "slide_type": "subslide"
    }
   },
   "source": [
    "### Méthodes d'écriture\n",
    "\n",
    "- ``f.write('du texte')`` : écrit la chaine ``'du texte'`` dans ``f``"
   ]
  },
  {
   "cell_type": "code",
   "execution_count": null,
   "metadata": {},
   "outputs": [],
   "source": [
    "chaine = 'Je sais écrire\\n...\\navec Python !\\n'\n",
    "# mode 'w' : on écrase le contenu du fichier s'il existe\n",
    "# encoding UTF-8: on peut écrire des chaînes avec des caractères non ASCII\n",
    "f = open('pas_mal.txt', mode='w', encoding='utf8')\n",
    "f.write(chaine)\n",
    "f.close()"
   ]
  },
  {
   "cell_type": "markdown",
   "metadata": {
    "slideshow": {
     "slide_type": "-"
    }
   },
   "source": [
    "**Note :** du point de vue du système, rien n'est écrit dans le fichier avant l’appel de ``f.close()``"
   ]
  },
  {
   "cell_type": "markdown",
   "metadata": {
    "slideshow": {
     "slide_type": "subslide"
    }
   },
   "source": [
    "- ``f.writelines(ma_sequence)`` : écrit la séquence ``ma_sequence`` dans ``f`` en mettant bout à bout les éléments"
   ]
  },
  {
   "cell_type": "code",
   "execution_count": null,
   "metadata": {},
   "outputs": [],
   "source": [
    "sequence = ['Je sais ajouter\\n', 'du texte\\n', 'avec Python !\\n']\n",
    "f = open('pas_mal.txt', mode='a')\n",
    "# mode 'a' : on ajoute à la fin du fichier\n",
    "# encoding par défaut: uniquement des caractères ASCII\n",
    "f.writelines(sequence)\n",
    "f.close()"
   ]
  },
  {
   "cell_type": "code",
   "execution_count": null,
   "metadata": {},
   "outputs": [],
   "source": [
    "chaine = 'Pour ajouter du texte avec des caractères accentués: ï\\n'\n",
    "f = open('pas_mal.txt', mode='a', encoding='utf8')\n",
    "# mode 'a' : on ajoute à la fin du fichier\n",
    "# encoding UTF-8: on peut écrire des chaînes avec des caractères non ASCII\n",
    "f.write(chaine)\n",
    "f.close()"
   ]
  },
  {
   "cell_type": "markdown",
   "metadata": {
    "slideshow": {
     "slide_type": "subslide"
    }
   },
   "source": [
    "> **Exercice :**\n",
    ">\n",
    "> 1. écrire le contenu de la liste ``mystere`` dans le fichier ``coded.txt`` puis fermer ce dernier\n",
    "> 2. lire le fichier ``coded.txt`` et le stocker dans une chaine ``coded``\n",
    "> 3. Décoder la chaîne ``coded`` avec les instructions suivantes:\n",
    ">\n",
    ">```python\n",
    ">import codecs\n",
    ">decoded = codecs.decode(coded, encoding='rot13')\n",
    ">```\n",
    ">\n",
    "> 4. écrire la chaine ``decoded`` dans le fichier ``decoded.txt`` et fermer ce dernier\n",
    "> 5. visualiser le contenu du fichier ``decoded.txt`` dans un éditeur de texte"
   ]
  },
  {
   "cell_type": "code",
   "execution_count": null,
   "metadata": {
    "slideshow": {
     "slide_type": "subslide"
    },
    "solution2": "hidden",
    "solution2_first": true
   },
   "outputs": [],
   "source": [
    "mystere = ['Gur Mra bs Clguba, ol Gvz Crgref\\n\\n',\n",
    "           'Ornhgvshy vf orggre guna htyl.\\n',\n",
    "           'Rkcyvpvg vf orggre guna vzcyvpvg.\\n']\n",
    "# Votre code ci-dessous\n"
   ]
  },
  {
   "cell_type": "code",
   "execution_count": null,
   "metadata": {
    "solution2": "hidden"
   },
   "outputs": [],
   "source": [
    "# Solution\n",
    "\n",
    "# Cette ligne permet l'utilisation de codecs.decode(), c.f. ligne 21\n",
    "import codecs\n",
    "\n",
    "mystere = [\"Gur Mra bs Clguba, ol Gvz Crgref\\n\\n\",\n",
    "           \"Ornhgvshy vf orggre guna htyl.\\n\",\n",
    "           \"Rkcyvpvg vf orggre guna vzcyvpvg.\\n\"]\n",
    "\n",
    "# On écrit ces chaînes de caractères dans le fichier \"coded.txt\"\n",
    "f = open('coded.txt', mode='w')\n",
    "f.writelines(mystere)\n",
    "f.close()\n",
    "\n",
    "# On relit le contenu du fichier \"coded.txt\" que l'on vient de créer\n",
    "f = open('coded.txt', mode='r')\n",
    "coded = f.read()\n",
    "f.close()\n",
    "\n",
    "# On décode le message mystérieux\n",
    "decoded = codecs.decode(coded, encoding='rot13')\n",
    "\n",
    "# On écrit le message décodé dans un autre fichier\n",
    "f = open('decoded.txt', mode='w')\n",
    "f.write(decoded)\n",
    "f.close()\n",
    "\n",
    "# Vous pouvez ensuite aller consulter le message décodé dans le fichier \"decoded.txt\"\n",
    "%cat decoded.txt"
   ]
  }
 ],
 "metadata": {
  "kernelspec": {
   "display_name": "Python 3",
   "language": "python",
   "name": "python3"
  },
  "language_info": {
   "codemirror_mode": {
    "name": "ipython",
    "version": 3
   },
   "file_extension": ".py",
   "mimetype": "text/x-python",
   "name": "python",
   "nbconvert_exporter": "python",
   "pygments_lexer": "ipython3",
   "version": "3.6.2"
  }
 },
 "nbformat": 4,
 "nbformat_minor": 1
}
