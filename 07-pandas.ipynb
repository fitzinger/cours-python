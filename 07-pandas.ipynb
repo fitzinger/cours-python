{
 "cells": [
  {
   "cell_type": "markdown",
   "metadata": {
    "slideshow": {
     "slide_type": "slide"
    }
   },
   "source": [
    "# Une introduction à Pandas\n",
    "\n",
    "![pandas](fig/pandas_logo.png)\n",
    "\n",
    "- les *Series*\n",
    "- les *Dataframes*\n",
    "- Des exemples de traitement de données publiques\n",
    "\n",
    "***\n",
    "\n",
    "*Contenu sous licence [CC BY-SA 4.0](https://creativecommons.org/licenses/by-sa/4.0), inspiré de <https://github.com/pnavaro/big-data>*"
   ]
  },
  {
   "cell_type": "markdown",
   "metadata": {
    "slideshow": {
     "slide_type": "slide"
    }
   },
   "source": [
    "## Un outil pour l'analyse de données\n",
    "\n",
    "- première version en 2011\n",
    "- basé sur NumPy\n",
    "- largement inspiré par la toolbox R pour la manipulation de données\n",
    "- structures de données auto-descriptives\n",
    "- Fonctions de chargement et écriture vers les formats de fichiers courants\n",
    "- Fonctions de tracé\n",
    "- Outils statistiques basiques\n"
   ]
  },
  {
   "cell_type": "markdown",
   "metadata": {
    "slideshow": {
     "slide_type": "slide"
    }
   },
   "source": [
    "## Les *Pandas series*\n",
    "\n",
    "[Documentation officielle](https://pandas.pydata.org/pandas-docs/stable/dsintro.html#series)\n",
    "\n",
    "- Une *series* Pandas :\n",
    "    - un tableau 1D de données (éventuellement hétérogènes)\n",
    "    - une séquence d'étiquettes appelée *index* de même longueur que le tableau 1D\n",
    "    \n",
    "- l'index peut être du contenu numérique, des chaînes de caractères, ou des dates-heures.\n",
    "- si l'index est une valeur temporelle, alors il s'agit d'une [*time series*](https://en.wikipedia.org/wiki/Time_series)\n",
    "- l'index par défaut est `range(len(data))`"
   ]
  },
  {
   "cell_type": "markdown",
   "metadata": {
    "slideshow": {
     "slide_type": "subslide"
    }
   },
   "source": [
    "### Illustration"
   ]
  },
  {
   "cell_type": "code",
   "execution_count": null,
   "metadata": {},
   "outputs": [],
   "source": [
    "import pandas as pd\n",
    "import numpy as np\n",
    "pd.set_option(\"display.max_rows\", 8)  # Pour limiter le nombre de lignes affichées"
   ]
  },
  {
   "cell_type": "code",
   "execution_count": null,
   "metadata": {},
   "outputs": [],
   "source": [
    "print(pd.Series([10, 8, 7, 6, 5]))\n",
    "print(pd.Series([4, 3, 2, 1, 0.]))"
   ]
  },
  {
   "cell_type": "markdown",
   "metadata": {
    "slideshow": {
     "slide_type": "subslide"
    }
   },
   "source": [
    "### Une série temporelle\n",
    "\n",
    "Par exemple, les jours qui nous séparent du nouvel an."
   ]
  },
  {
   "cell_type": "code",
   "execution_count": null,
   "metadata": {},
   "outputs": [],
   "source": [
    "time_period = pd.period_range('10/04/2018', '01/01/2019', freq=\"D\")\n",
    "pd.Series(index=time_period, data=range(len(time_period) - 1, -1, -1)) "
   ]
  },
  {
   "cell_type": "markdown",
   "metadata": {
    "slideshow": {
     "slide_type": "subslide"
    }
   },
   "source": [
    "### Un exemple de traitement\n",
    "\n",
    "On exploite un texte tiré de ce site non officiel : http://www.sacred-texts.com/neu/mphg/mphg.htm"
   ]
  },
  {
   "cell_type": "code",
   "execution_count": null,
   "metadata": {},
   "outputs": [],
   "source": [
    "with open(\"exos/nee.txt\") as f:\n",
    "    nee = f.read()\n",
    "\n",
    "print(nee)"
   ]
  },
  {
   "cell_type": "markdown",
   "metadata": {
    "slideshow": {
     "slide_type": "subslide"
    }
   },
   "source": [
    "#### Dénombrer les occurrences de mots"
   ]
  },
  {
   "cell_type": "markdown",
   "metadata": {
    "slideshow": {
     "slide_type": "-"
    }
   },
   "source": [
    "On supprime la ponctuation "
   ]
  },
  {
   "cell_type": "code",
   "execution_count": null,
   "metadata": {
    "slideshow": {
     "slide_type": "-"
    }
   },
   "outputs": [],
   "source": [
    "for s in '.', '!', ',', '?', ':', '[', ']', 'ARTHUR', 'HEAD KNIGHT', 'PARTY':\n",
    "    nee = nee.replace(s, '')"
   ]
  },
  {
   "cell_type": "markdown",
   "metadata": {
    "slideshow": {
     "slide_type": "-"
    }
   },
   "source": [
    "On transforme en minuscule et on découpe en une liste de mots"
   ]
  },
  {
   "cell_type": "code",
   "execution_count": null,
   "metadata": {
    "slideshow": {
     "slide_type": "-"
    }
   },
   "outputs": [],
   "source": [
    "nees = nee.lower().split()\n",
    "nees"
   ]
  },
  {
   "cell_type": "markdown",
   "metadata": {
    "slideshow": {
     "slide_type": "subslide"
    }
   },
   "source": [
    "On crée un object compteur"
   ]
  },
  {
   "cell_type": "code",
   "execution_count": null,
   "metadata": {
    "slideshow": {
     "slide_type": "-"
    }
   },
   "outputs": [],
   "source": [
    "from collections import Counter\n",
    "c = Counter(nees)"
   ]
  },
  {
   "cell_type": "markdown",
   "metadata": {
    "slideshow": {
     "slide_type": "-"
    }
   },
   "source": [
    "On ne retient que les mots qui apparaissent plus de 2 fois"
   ]
  },
  {
   "cell_type": "code",
   "execution_count": null,
   "metadata": {
    "slideshow": {
     "slide_type": "-"
    }
   },
   "outputs": [],
   "source": [
    "c = Counter({x : c[x] for x in c if c[x] > 2})\n",
    "c"
   ]
  },
  {
   "cell_type": "markdown",
   "metadata": {
    "slideshow": {
     "slide_type": "subslide"
    }
   },
   "source": [
    "#### Création d'une série Pandas à partir de l'objet  `c`\n",
    "\n",
    "> Notons que la série est ordonnée avec un index croissant (dans l'ordre alphabétique)."
   ]
  },
  {
   "cell_type": "code",
   "execution_count": null,
   "metadata": {},
   "outputs": [],
   "source": [
    "words = pd.Series(c)\n",
    "words"
   ]
  },
  {
   "cell_type": "markdown",
   "metadata": {
    "slideshow": {
     "slide_type": "subslide"
    }
   },
   "source": [
    "#### Représentation dans un histogramme\n",
    "\n",
    "On commence par positionner certains paramètres de tracé"
   ]
  },
  {
   "cell_type": "code",
   "execution_count": null,
   "metadata": {},
   "outputs": [],
   "source": [
    "%matplotlib inline\n",
    "%config InlineBackend.figure_format = 'retina'\n",
    "\n",
    "# Pour un rendu plus abouti https://seaborn.pydata.org/introduction.html\n",
    "import seaborn as sns  \n",
    "sns.set()\n",
    "\n",
    "import matplotlib.pyplot as plt\n",
    "plt.rcParams['figure.figsize'] = (9, 6)  # Pour obtenir des figures plus grandes"
   ]
  },
  {
   "cell_type": "code",
   "execution_count": null,
   "metadata": {
    "slideshow": {
     "slide_type": "subslide"
    }
   },
   "outputs": [],
   "source": [
    "words.plot(kind='bar');"
   ]
  },
  {
   "cell_type": "markdown",
   "metadata": {
    "slideshow": {
     "slide_type": "slide"
    }
   },
   "source": [
    "### Indexation et slicing\n",
    "\n",
    "L'indexation et le slicing est une sorte de mélange entre les listes et les dictionnaires :\n",
    "\n",
    "- `series[index]` pour accéder à la donnée correspondant à `index`\n",
    "- `series[i]` où `i` est un entier qui suit les règles de l'indexation en python\n",
    "\n",
    "Nombre d'occurrences de la chaîne `nee`"
   ]
  },
  {
   "cell_type": "code",
   "execution_count": null,
   "metadata": {},
   "outputs": [],
   "source": [
    "print(words.index)  # Pour rappel\n",
    "words[\"nee\"]"
   ]
  },
  {
   "cell_type": "markdown",
   "metadata": {},
   "source": [
    "Trois dernières données de la série"
   ]
  },
  {
   "cell_type": "code",
   "execution_count": null,
   "metadata": {},
   "outputs": [],
   "source": [
    "words[-3:]"
   ]
  },
  {
   "cell_type": "markdown",
   "metadata": {
    "slideshow": {
     "slide_type": "subslide"
    }
   },
   "source": [
    "### Ordonner la série\n",
    "\n"
   ]
  },
  {
   "cell_type": "code",
   "execution_count": null,
   "metadata": {},
   "outputs": [],
   "source": [
    "words.sort_values(inplace=True)\n",
    "words.plot(kind='barh');  # On change pour un histogramme horizontal"
   ]
  },
  {
   "cell_type": "markdown",
   "metadata": {
    "slideshow": {
     "slide_type": "slide"
    }
   },
   "source": [
    "## Les *Pandas Dataframes*\n",
    "\n",
    "- C'est la structure de base de Pandas\n",
    "- un *Dataframe* est une structure de données tabulées à deux dimensions, potentiellement hétérogène\n",
    "- un *Dataframe* est constitué de lignes et colonnes portant des étiquettes\n",
    "- C'est en quelque sorte un \"dictionnaire de *Series*\"."
   ]
  },
  {
   "cell_type": "markdown",
   "metadata": {
    "slideshow": {
     "slide_type": "subslide"
    }
   },
   "source": [
    "### Un exemple avec les arbres de la ville de Strasbourg\n",
    "\n",
    "Conformément à l'[ordonnance du 6 juin 2005](https://www.legifrance.gouv.fr/affichTexte.do;jsessionid=0498736F8F3B3936EDA857F095A5434A.tpdjo08v_3?cidTexte=JORFTEXT000000629684&categorieLien=id) (qui prolonge la loi CADA), la ville de Strasbourg a commencé à mettre en ligne ses données publiques.\n",
    "\n",
    "En particulier des données sur ses arbres : https://www.strasbourg.eu/arbres-alignements-espaces-verts\n",
    "\n",
    "On veut exploiter ces données. Pour ce faire, on va :\n",
    "\n",
    "1. télécharger les données\n",
    "2. les charger dans un *Dataframe*\n",
    "3. les nettoyer/filtrer\n",
    "4. les représenter graphiquement"
   ]
  },
  {
   "cell_type": "markdown",
   "metadata": {
    "slideshow": {
     "slide_type": "subslide"
    }
   },
   "source": [
    "#### On télécharge et on nettoie\n",
    "\n",
    "On commence par définir une fonction qui télécharge et extrait une archive zip."
   ]
  },
  {
   "cell_type": "code",
   "execution_count": null,
   "metadata": {},
   "outputs": [],
   "source": [
    "from io import BytesIO\n",
    "from urllib.request import urlopen\n",
    "from zipfile import ZipFile\n",
    "\n",
    "def download_unzip(zipurl, destination):\n",
    "    \"\"\"Download zipfile from URL and extract it to destination\"\"\"\n",
    "    with urlopen(zipurl) as zipresp:\n",
    "        with ZipFile(BytesIO(zipresp.read())) as zfile:\n",
    "            zfile.extractall(destination)"
   ]
  },
  {
   "cell_type": "markdown",
   "metadata": {
    "slideshow": {
     "slide_type": "-"
    }
   },
   "source": [
    "On l'utilise pour télécharger l'archive des données ouvertes de la ville de Strasbourg."
   ]
  },
  {
   "cell_type": "code",
   "execution_count": null,
   "metadata": {},
   "outputs": [],
   "source": [
    "download_unzip(\"https://www.strasbourg.eu/documents/976405/1168331/CUS_CUS_DEPN_ARBR.zip\", \"arbres\")"
   ]
  },
  {
   "cell_type": "markdown",
   "metadata": {
    "slideshow": {
     "slide_type": "subslide"
    }
   },
   "source": [
    "On liste le contenu de l'archive"
   ]
  },
  {
   "cell_type": "code",
   "execution_count": null,
   "metadata": {},
   "outputs": [],
   "source": [
    "%ls -R arbres"
   ]
  },
  {
   "cell_type": "markdown",
   "metadata": {
    "slideshow": {
     "slide_type": "subslide"
    }
   },
   "source": [
    "On charge le fichier csv comme un *Dataframe*."
   ]
  },
  {
   "cell_type": "code",
   "execution_count": null,
   "metadata": {
    "slideshow": {
     "slide_type": "-"
    }
   },
   "outputs": [],
   "source": [
    "arbres_all = pd.read_csv(\"arbres/CUS_CUS_DEPN_ARBR.csv\",\n",
    "                         encoding='latin',  # Pour prendre en compte l'encoding qui n'est pas utf-8\n",
    "                         delimiter=\";\",     # Le caractère séparateur des colonnes\n",
    "                         decimal=',')       # Pour convertir les décimaux utilisant la notation , \n",
    "arbres_all"
   ]
  },
  {
   "cell_type": "code",
   "execution_count": null,
   "metadata": {
    "slideshow": {
     "slide_type": "subslide"
    }
   },
   "outputs": [],
   "source": [
    "print(\"{} arbres recensés !\".format(len(arbres_all)))"
   ]
  },
  {
   "cell_type": "markdown",
   "metadata": {
    "slideshow": {
     "slide_type": "-"
    }
   },
   "source": [
    "On commence par lister les villes citées."
   ]
  },
  {
   "cell_type": "code",
   "execution_count": null,
   "metadata": {},
   "outputs": [],
   "source": [
    "print(set(arbres_all['point vert VILLE']))"
   ]
  },
  {
   "cell_type": "markdown",
   "metadata": {
    "slideshow": {
     "slide_type": "subslide"
    }
   },
   "source": [
    "On ne s'intéresse qu'à la ville de Strasbourg"
   ]
  },
  {
   "cell_type": "code",
   "execution_count": null,
   "metadata": {},
   "outputs": [],
   "source": [
    "arbres = arbres_all[arbres_all['point vert VILLE'] ==  \"STRASBOURG\"]\n",
    "print(\"Il ne reste plus que {} arbres.\".format(len(arbres)))"
   ]
  },
  {
   "cell_type": "markdown",
   "metadata": {},
   "source": [
    "On enlève les données incomplètes."
   ]
  },
  {
   "cell_type": "code",
   "execution_count": null,
   "metadata": {},
   "outputs": [],
   "source": [
    "arbres = arbres.dropna(axis=0, how='any')\n",
    "print(\"Il ne reste plus que {} arbres.\".format(len(arbres)))"
   ]
  },
  {
   "cell_type": "markdown",
   "metadata": {
    "slideshow": {
     "slide_type": "subslide"
    }
   },
   "source": [
    "#### On veut comptabiliser les essences\n",
    "\n",
    "On extrait la série des essences."
   ]
  },
  {
   "cell_type": "code",
   "execution_count": null,
   "metadata": {},
   "outputs": [],
   "source": [
    "essences = set(arbres['Libellé_Essence'])\n",
    "print(\"Il y a {} essences différentes !\".format(len(essences)))"
   ]
  },
  {
   "cell_type": "markdown",
   "metadata": {},
   "source": [
    "Les 5 premières dans l'ordre alphabétique :"
   ]
  },
  {
   "cell_type": "code",
   "execution_count": null,
   "metadata": {},
   "outputs": [],
   "source": [
    "sorted(list(essences))[:5]"
   ]
  },
  {
   "cell_type": "markdown",
   "metadata": {
    "slideshow": {
     "slide_type": "subslide"
    }
   },
   "source": [
    "C'est bientôt Noël, on se limite aux sapins !"
   ]
  },
  {
   "cell_type": "code",
   "execution_count": null,
   "metadata": {},
   "outputs": [],
   "source": [
    "sapins = arbres[arbres['Libellé_Essence'].str.match(\"^Abies\")]\n",
    "sapins"
   ]
  },
  {
   "cell_type": "markdown",
   "metadata": {
    "slideshow": {
     "slide_type": "subslide"
    }
   },
   "source": [
    "On trace leur répartition"
   ]
  },
  {
   "cell_type": "code",
   "execution_count": null,
   "metadata": {},
   "outputs": [],
   "source": [
    "sapins['Libellé_Essence'].value_counts().plot(\"barh\");"
   ]
  },
  {
   "cell_type": "markdown",
   "metadata": {
    "slideshow": {
     "slide_type": "subslide"
    }
   },
   "source": [
    "#### On veut faire des stastistiques par essence\n",
    "\n",
    "On veut connaître la hauteur moyenne par essence pour chaque type *Abies*."
   ]
  },
  {
   "cell_type": "code",
   "execution_count": null,
   "metadata": {},
   "outputs": [],
   "source": [
    "hauteurs_sapins = sapins.groupby(['Libellé_Essence'])[\"Hauteur arbre\"]\n",
    "pd.concat([hauteurs_sapins.min().rename('min'),\n",
    "           hauteurs_sapins.mean().rename('moyenne'),\n",
    "           hauteurs_sapins.max().rename('max')],\n",
    "           axis=1).plot(kind='barh');"
   ]
  },
  {
   "cell_type": "markdown",
   "metadata": {
    "slideshow": {
     "slide_type": "slide"
    }
   },
   "source": [
    "## Représentation géographique\n",
    "\n",
    "On voudrait maintenant représenter la répartition des arbres par quartiers.\n",
    "\n",
    "On utilise à nouveau les données ouvertes de la ville de Strasbourg, cette fois-ci concernant les quartiers : https://www.strasbourg.eu/decoupage-15-quartiers\n",
    "\n",
    "On télécharge, on extrait l'archive et on liste son contenu."
   ]
  },
  {
   "cell_type": "code",
   "execution_count": null,
   "metadata": {},
   "outputs": [],
   "source": [
    "download_unzip(\"https://www.strasbourg.eu/documents/976405/1168339/CUS_CUS_DUAH_QUART.zip\", \"quartiers\")\n",
    "%ls -R quartiers"
   ]
  },
  {
   "cell_type": "markdown",
   "metadata": {
    "slideshow": {
     "slide_type": "subslide"
    }
   },
   "source": [
    "C'est le fichier `.shp` qui nous intéresse.\n",
    "\n",
    "À ce stade, nous avons besoin des bibliothèques [GeoPandas](http://geopandas.org/) et [Folium](https://folium.readthedocs.io/en/latest/) que l'on installe avec pip."
   ]
  },
  {
   "cell_type": "markdown",
   "metadata": {},
   "source": [
    "On commence par installer pip, le gestionnaire de paquets Python."
   ]
  },
  {
   "cell_type": "code",
   "execution_count": null,
   "metadata": {},
   "outputs": [],
   "source": [
    "from urllib.request import urlretrieve\n",
    "\n",
    "urlretrieve(\"https://bootstrap.pypa.io/get-pip.py\", \"get-pip.py\")\n",
    "%run get-pip.py"
   ]
  },
  {
   "cell_type": "markdown",
   "metadata": {},
   "source": [
    "On installe les paquets nécessaires dans le kernel python courant."
   ]
  },
  {
   "cell_type": "code",
   "execution_count": null,
   "metadata": {},
   "outputs": [],
   "source": [
    "import sys\n",
    "!{sys.executable} -m pip install geopandas folium"
   ]
  },
  {
   "cell_type": "markdown",
   "metadata": {
    "slideshow": {
     "slide_type": "subslide"
    }
   },
   "source": [
    "On charge le fichier qui nous intéresse."
   ]
  },
  {
   "cell_type": "code",
   "execution_count": null,
   "metadata": {
    "slideshow": {
     "slide_type": "-"
    }
   },
   "outputs": [],
   "source": [
    "import geopandas as gpd\n",
    "quartiers = gpd.read_file(\"quartiers/SHP/Quartiers_Strasbourg_15.shp\")\n",
    "print(\"quartiers est de type {}.\".format(type(quartiers)))\n",
    "quartiers"
   ]
  },
  {
   "cell_type": "markdown",
   "metadata": {
    "slideshow": {
     "slide_type": "subslide"
    }
   },
   "source": [
    "Avec Folium, on commence par représenter ces données géographiques sur un fond de carte."
   ]
  },
  {
   "cell_type": "code",
   "execution_count": null,
   "metadata": {},
   "outputs": [],
   "source": [
    "import folium\n",
    "\n",
    "# On crée une carte initialement centrée sur Strasbourg\n",
    "STRASBOURG_COORD = (48.58, 7.75)\n",
    "stras_map = folium.Map(STRASBOURG_COORD, zoom_start=11, tiles='cartodbpositron')\n",
    "\n",
    "# On ajoute les données des quartiers\n",
    "folium.GeoJson(quartiers).add_to(stras_map)\n",
    "\n",
    "# On enregistre dans un fichier html\n",
    "stras_map.save('stras_map.html')\n",
    "\n",
    "# On trace dans le notebook\n",
    "display(stras_map)"
   ]
  },
  {
   "cell_type": "markdown",
   "metadata": {
    "slideshow": {
     "slide_type": "subslide"
    }
   },
   "source": [
    "À l'emplacement de ces quartiers, on souhaite représenter une échelle de couleur en fonction de la densité d'arbres.\n",
    "\n",
    "On constate que les noms de quartiers sont différents de ceux du jeu de données sur les arbres."
   ]
  },
  {
   "cell_type": "code",
   "execution_count": null,
   "metadata": {
    "slideshow": {
     "slide_type": "-"
    }
   },
   "outputs": [],
   "source": [
    "def series_to_ensemble(series):\n",
    "    \"\"\"series -> (ensemble, la taille de l'ensemble)\"\"\"\n",
    "    return set(series), len(set(series))\n",
    "\n",
    "print(series_to_ensemble(quartiers[\"QUARTIER\"]))\n",
    "print(series_to_ensemble(arbres['Point vert Quartier usuel']))"
   ]
  },
  {
   "cell_type": "markdown",
   "metadata": {
    "slideshow": {
     "slide_type": "-"
    }
   },
   "source": [
    "On commence par mettre en minuscule les noms contenus dans le Dataframe `quartiers` et à remplacer les espaces par des underscores"
   ]
  },
  {
   "cell_type": "code",
   "execution_count": null,
   "metadata": {
    "slideshow": {
     "slide_type": "-"
    }
   },
   "outputs": [],
   "source": [
    "quartiers[\"QUARTIER\"] = quartiers[\"QUARTIER\"].str.lower()\n",
    "quartiers[\"QUARTIER\"] = quartiers[\"QUARTIER\"].str.replace('_', ' ')"
   ]
  },
  {
   "cell_type": "markdown",
   "metadata": {
    "slideshow": {
     "slide_type": "subslide"
    }
   },
   "source": [
    "À présent, on  convertit les noms dans le Dataframe `arbres` en supposant les correspondances ci-dessous."
   ]
  },
  {
   "cell_type": "code",
   "execution_count": null,
   "metadata": {},
   "outputs": [],
   "source": [
    "convertion_dict = {\"CENTRE\": \"centre ville\",\n",
    "                   (\"BOURSE\", \"ESPLANADE\", \"KRUTENAU\"): \"bourse esplanade krutenau\",\n",
    "                   (\"ORANGERIE\", \"CONSEIL-XV\"): \"orangerie conseil des xv\",\n",
    "                   (\"GARE\", \"TRIBUNAL\"): \"gare tribunal\",\n",
    "                   (\"HAUTEPIERRE\", \"POTERIE\"): \"hautepierre poteries\",\n",
    "                   \"MUSAU\": \"NEUDORF\",\n",
    "                   \"STOCKFELD\": \"NEUHOF2\",\n",
    "                   \"PLAINE DES BOUCHERS\": \"MEINAU\",\n",
    "                   \"POLYGONE\": \"NEUHOF\",\n",
    "                   \"PORTE DE SCHIRMECK\": \"ELSAU\",\n",
    "                   (\"ROBERTSAU\", \"WACKEN\"): \"ROBERTSAU WACKEN\"}\n",
    "\n",
    "for k, v in convertion_dict.items():\n",
    "    arbres['Point vert Quartier usuel'] = arbres['Point vert Quartier usuel'].replace(to_replace=k, value=v)\n",
    "\n",
    "arbres['Point vert Quartier usuel'] = arbres['Point vert Quartier usuel'].str.lower()\n",
    "arbres"
   ]
  },
  {
   "cell_type": "markdown",
   "metadata": {
    "slideshow": {
     "slide_type": "subslide"
    }
   },
   "source": [
    "On vérifie que l'ensemble des quartiers est le même pour les deux Dataframes `quartiers` et `arbres`."
   ]
  },
  {
   "cell_type": "code",
   "execution_count": null,
   "metadata": {
    "slideshow": {
     "slide_type": "-"
    }
   },
   "outputs": [],
   "source": [
    "set(quartiers[\"QUARTIER\"]) == set(arbres['Point vert Quartier usuel'])"
   ]
  },
  {
   "cell_type": "markdown",
   "metadata": {
    "slideshow": {
     "slide_type": "-"
    }
   },
   "source": [
    "On construit une série qui contient le nombre d'arbres par quartier."
   ]
  },
  {
   "cell_type": "code",
   "execution_count": null,
   "metadata": {},
   "outputs": [],
   "source": [
    "arbres_quartiers = arbres['Point vert Quartier usuel'].value_counts()"
   ]
  },
  {
   "cell_type": "markdown",
   "metadata": {
    "slideshow": {
     "slide_type": "subslide"
    }
   },
   "source": [
    "On trace le graphique en barres correspondant."
   ]
  },
  {
   "cell_type": "code",
   "execution_count": null,
   "metadata": {},
   "outputs": [],
   "source": [
    "arbres_quartiers.plot(kind='barh');"
   ]
  },
  {
   "cell_type": "markdown",
   "metadata": {
    "slideshow": {
     "slide_type": "subslide"
    }
   },
   "source": [
    "On construit une nouvelle *Series* correspondant à l'aire de chaque quartier en $m^2$."
   ]
  },
  {
   "cell_type": "code",
   "execution_count": null,
   "metadata": {
    "slideshow": {
     "slide_type": "-"
    }
   },
   "outputs": [],
   "source": [
    "aires = quartiers.area\n",
    "aires.index = quartiers[\"QUARTIER\"]\n",
    "aires"
   ]
  },
  {
   "cell_type": "markdown",
   "metadata": {
    "slideshow": {
     "slide_type": "subslide"
    }
   },
   "source": [
    "On calcule la densité d'arbres par hectare."
   ]
  },
  {
   "cell_type": "code",
   "execution_count": null,
   "metadata": {},
   "outputs": [],
   "source": [
    "densite = arbres_quartiers/aires*10000\n",
    "densite"
   ]
  },
  {
   "cell_type": "markdown",
   "metadata": {
    "slideshow": {
     "slide_type": "subslide"
    }
   },
   "source": [
    "On trace une carte colorée par la densité d'arbres avec la méthode `choropleth`."
   ]
  },
  {
   "cell_type": "code",
   "execution_count": null,
   "metadata": {
    "scrolled": true
   },
   "outputs": [],
   "source": [
    "stras_map.choropleth(geo_data=quartiers, \n",
    "             data=densite,\n",
    "             key_on='feature.properties.QUARTIER',\n",
    "             fill_color='YlGn',\n",
    "             fill_opacity=0.5,\n",
    "             line_opacity=0.2,\n",
    "             legend_name=r\"Nombre d\\'arbres par hectare\")\n",
    "stras_map.save('stras_tree.html')\n",
    "display(stras_map)"
   ]
  },
  {
   "cell_type": "markdown",
   "metadata": {
    "slideshow": {
     "slide_type": "subslide"
    }
   },
   "source": [
    "### Exercice\n",
    "\n",
    "Ecrire la fonction `plot_essence()` qui prend en argument une essence d'arbres et qui trace le nombre d'arbres correspondant par quartier en utilisant `choropleth`."
   ]
  },
  {
   "cell_type": "code",
   "execution_count": null,
   "metadata": {
    "solution2": "hidden",
    "solution2_first": true
   },
   "outputs": [],
   "source": [
    "def plot_essence(essence_name):\n",
    "    pass\n",
    "    # Votre code ici\n",
    "\n",
    "plot_essence(\"Acer\")"
   ]
  },
  {
   "cell_type": "code",
   "execution_count": null,
   "metadata": {
    "solution2": "hidden"
   },
   "outputs": [],
   "source": [
    "def plot_essence(essence_name):\n",
    "    # On extrait un Dataframe ne contenant que l'essence\n",
    "    essence = arbres[arbres['Libellé_Essence'].str.match(\"^{}\".format(\n",
    "                essence_name))]\n",
    "    # On crée une Series contenant contenant le nombre d'arbres par quartier\n",
    "    essence_quartiers = essence['Point vert Quartier usuel'].value_counts()\n",
    "\n",
    "    # On crée une carte initialement centrée sur Strasbourg\n",
    "    STRASBOURG_COORD = (48.58, 7.75)\n",
    "    stras_map = folium.Map(STRASBOURG_COORD, zoom_start=11,\n",
    "                           tiles='cartodbpositron')\n",
    "\n",
    "    # On ajoute les données des quartiers\n",
    "    folium.GeoJson(quartiers).add_to(stras_map)\n",
    "\n",
    "    legend = \"Nombre de {}\".format(essence_name)\n",
    "    stras_map.choropleth(geo_data=quartiers,\n",
    "                         data=essence_quartiers,\n",
    "                         key_on='feature.properties.QUARTIER',\n",
    "                         fill_color='YlGn',\n",
    "                         fill_opacity=0.5,\n",
    "                         line_opacity=0.2,\n",
    "                         legend_name=legend)\n",
    "    stras_map.save('stras_tree_essence.html')\n",
    "    display(stras_map)"
   ]
  },
  {
   "cell_type": "markdown",
   "metadata": {
    "slideshow": {
     "slide_type": "slide"
    }
   },
   "source": [
    "## Références\n",
    "\n",
    "- La [documentation officielle](http://pandas.pydata.org/pandas-docs/stable/)\n",
    "- Le [cours de Pierre Navaro](https://github.com/pnavaro/big-data)\n",
    "- Le [cours de Ted Petrou](https://github.com/tdpetrou/Learn-Pandas) (en construction au 12/12/2017)\n",
    "- Des sites personnels de développeurs :\n",
    "    - https://staff.washington.edu/jakevdp/\n",
    "    - http://wesmckinney.com/\n",
    "    - https://matthewrocklin.com/"
   ]
  },
  {
   "cell_type": "markdown",
   "metadata": {
    "slideshow": {
     "slide_type": "slide"
    }
   },
   "source": [
    "## Annexe\n",
    "\n",
    "### Une autre façon de représenter les occurences de mots\n",
    "\n",
    "Cette fois, on n'utilise pas `pandas` mais le module `wordcloud`."
   ]
  },
  {
   "cell_type": "code",
   "execution_count": null,
   "metadata": {},
   "outputs": [],
   "source": [
    "from wordcloud import WordCloud\n",
    "\n",
    "# On crée un objet Wordcloud\n",
    "wcloud = WordCloud(background_color=\"white\", width=480, height=480, margin=0).generate(nee)\n",
    "\n",
    "# On afiche l'image avec matplotlib\n",
    "plt.imshow(wcloud, interpolation='bilinear')\n",
    "plt.axis(\"off\")\n",
    "plt.margins(x=0, y=0)"
   ]
  }
 ],
 "metadata": {
  "kernelspec": {
   "display_name": "Python 3",
   "language": "python",
   "name": "python3"
  },
  "language_info": {
   "codemirror_mode": {
    "name": "ipython",
    "version": 3
   },
   "file_extension": ".py",
   "mimetype": "text/x-python",
   "name": "python",
   "nbconvert_exporter": "python",
   "pygments_lexer": "ipython3",
   "version": "3.6.2"
  }
 },
 "nbformat": 4,
 "nbformat_minor": 2
}
